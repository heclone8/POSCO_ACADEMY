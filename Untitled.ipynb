{
 "cells": [
  {
   "cell_type": "code",
   "execution_count": 16,
   "id": "fcdcc6c1-aaed-459d-9d05-0de48b382e40",
   "metadata": {},
   "outputs": [
    {
     "name": "stdout",
     "output_type": "stream",
     "text": [
      "{1, 2, 3, 4}\n",
      "{3, 4, 5}\n"
     ]
    }
   ],
   "source": [
    "s1 = set([1,2,3,3,3,4,2])\n",
    "print(s1)\n",
    "\n",
    "s2 = {3, 4, 5}\n",
    "print(s2)"
   ]
  },
  {
   "cell_type": "code",
   "execution_count": 17,
   "id": "e9ee6e21-0f55-43ba-a851-1b72f2b0ff5b",
   "metadata": {},
   "outputs": [
    {
     "name": "stdout",
     "output_type": "stream",
     "text": [
      "HelloHello\n"
     ]
    }
   ],
   "source": [
    "word = \"Hello\" * 2\n",
    "print(word)"
   ]
  },
  {
   "cell_type": "code",
   "execution_count": 18,
   "id": "71212078-28aa-46e4-8d01-70c843673223",
   "metadata": {},
   "outputs": [
    {
     "name": "stdout",
     "output_type": "stream",
     "text": [
      "['H', 'e', 'l', 'l', 'o', 'H', 'e', 'l', 'l', 'o']\n"
     ]
    }
   ],
   "source": [
    "word_list = list(word)\n",
    "print(word_list)"
   ]
  },
  {
   "cell_type": "code",
   "execution_count": 19,
   "id": "b4a687c3-0052-4153-ad98-0fb3da22b7c2",
   "metadata": {},
   "outputs": [
    {
     "name": "stdout",
     "output_type": "stream",
     "text": [
      "{'H', 'o', 'l', 'e'}\n"
     ]
    }
   ],
   "source": [
    "print(set(word_list))"
   ]
  },
  {
   "cell_type": "code",
   "execution_count": 20,
   "id": "975778d4-9e46-4d7f-bd2b-b7080cda7d3d",
   "metadata": {},
   "outputs": [
    {
     "data": {
      "text/plain": [
       "{1, 2, 3, 4, 5}"
      ]
     },
     "execution_count": 20,
     "metadata": {},
     "output_type": "execute_result"
    }
   ],
   "source": [
    "s = {1, 2, 3, 4, 5, 3, 4}\n",
    "s"
   ]
  },
  {
   "cell_type": "code",
   "execution_count": 21,
   "id": "59a0a08c-9bd3-4d40-ada3-9d28cb025975",
   "metadata": {},
   "outputs": [
    {
     "data": {
      "text/plain": [
       "{1, 2, 3, 4, 5, 10}"
      ]
     },
     "execution_count": 21,
     "metadata": {},
     "output_type": "execute_result"
    }
   ],
   "source": [
    "s.add(10)\n",
    "s"
   ]
  },
  {
   "cell_type": "code",
   "execution_count": 22,
   "id": "d7d434a2-64d6-4c64-95ba-12ad0a220abe",
   "metadata": {},
   "outputs": [
    {
     "data": {
      "text/plain": [
       "{1, 3, 4, 5, 10}"
      ]
     },
     "execution_count": 22,
     "metadata": {},
     "output_type": "execute_result"
    }
   ],
   "source": [
    "s.remove(2)\n",
    "s"
   ]
  },
  {
   "cell_type": "code",
   "execution_count": 23,
   "id": "18888204-afab-4279-8770-6c25c199b1d3",
   "metadata": {},
   "outputs": [
    {
     "data": {
      "text/plain": [
       "{1, 3, 4, 5, 7, 9, 10}"
      ]
     },
     "execution_count": 23,
     "metadata": {},
     "output_type": "execute_result"
    }
   ],
   "source": [
    "s.update([1, 3, 5, 7, 9])\n",
    "s"
   ]
  },
  {
   "cell_type": "code",
   "execution_count": 24,
   "id": "60456b22-fa19-4500-b61e-35bcdeae7b73",
   "metadata": {},
   "outputs": [
    {
     "data": {
      "text/plain": [
       "{1, 3, 4, 5, 9, 10}"
      ]
     },
     "execution_count": 24,
     "metadata": {},
     "output_type": "execute_result"
    }
   ],
   "source": [
    "s.discard(7) #없는 원소를 지우려 해도 오류가 나지 않는다\n",
    "s"
   ]
  },
  {
   "cell_type": "code",
   "execution_count": 25,
   "id": "a9992dab-1a59-469c-81dd-71e7e5fec266",
   "metadata": {},
   "outputs": [
    {
     "data": {
      "text/plain": [
       "set()"
      ]
     },
     "execution_count": 25,
     "metadata": {},
     "output_type": "execute_result"
    }
   ],
   "source": [
    "s.clear()\n",
    "s"
   ]
  },
  {
   "cell_type": "code",
   "execution_count": 28,
   "id": "9181ad29-7c61-468a-b920-51b835d76968",
   "metadata": {},
   "outputs": [
    {
     "name": "stdout",
     "output_type": "stream",
     "text": [
      "{1, 2, 3} {3, 4, 5}\n"
     ]
    }
   ],
   "source": [
    "s1 = {1, 2, 3}\n",
    "s2 = {3, 4, 5}\n",
    "print(s1, s2)"
   ]
  },
  {
   "cell_type": "code",
   "execution_count": 27,
   "id": "33898c6a-bcb9-4a33-9436-9d7112f0436a",
   "metadata": {},
   "outputs": [
    {
     "name": "stdout",
     "output_type": "stream",
     "text": [
      "{1, 2, 3, 4, 5}\n",
      "{1, 2, 3, 4, 5}\n",
      "{3}\n",
      "{3}\n",
      "{1, 2}\n",
      "{1, 2}\n"
     ]
    }
   ],
   "source": [
    "print(s1.union(s2))\n",
    "print(s1|s2)\n",
    "print(s1.intersection(s2))\n",
    "print(s1&s2)\n",
    "print(s1.difference(s2))\n",
    "print(s1-s2)"
   ]
  },
  {
   "cell_type": "code",
   "execution_count": 32,
   "id": "686ad278-4899-4a23-81d8-e3b5cb127178",
   "metadata": {},
   "outputs": [
    {
     "name": "stdout",
     "output_type": "stream",
     "text": [
      "{'Alice', 'Bob'} {'Charlie', 'Ella', 'David', 'Frank'}\n",
      "set() {'Alice', 'Ella', 'David', 'Charlie', 'Bob', 'George'}\n"
     ]
    }
   ],
   "source": [
    "def find_participants(p1, p2):\n",
    "    return_1 = p1.intersection(p2) # p1 & p2\n",
    "    return_2 = p1.union(p2) - p1.intersection(p2)\n",
    "    return set(return_1), set(return_2)\n",
    "\n",
    "A = {'Alice', 'Bob', 'Charlie', 'David'}\n",
    "B = {'Alice', 'Ella', 'Frank', 'Bob'}\n",
    "C = {'George', 'Ella'}\n",
    "\n",
    "both1, one1 = find_participants(A, B)\n",
    "both2, one2 = find_participants(A, C)\n",
    "\n",
    "print(both1, one1)\n",
    "print(both2, one2)"
   ]
  },
  {
   "cell_type": "code",
   "execution_count": 33,
   "id": "fc02b36b-2121-45cb-b6d5-a94979a06d6f",
   "metadata": {},
   "outputs": [
    {
     "name": "stdout",
     "output_type": "stream",
     "text": [
      "{'kim': 1}\n"
     ]
    }
   ],
   "source": [
    "d = {}\n",
    "d['kim'] = 1\n",
    "print(d)"
   ]
  },
  {
   "cell_type": "code",
   "execution_count": 35,
   "id": "bd0d89f7-01e2-46e5-a1dd-a3930c644452",
   "metadata": {},
   "outputs": [
    {
     "name": "stdout",
     "output_type": "stream",
     "text": [
      "{'kim': 1, 'park': 2}\n"
     ]
    }
   ],
   "source": [
    "d['park'] = 2\n",
    "print(d)"
   ]
  },
  {
   "cell_type": "code",
   "execution_count": 39,
   "id": "b9a902ec-4f93-4055-a3aa-5a15ffa350ee",
   "metadata": {},
   "outputs": [
    {
     "data": {
      "text/plain": [
       "['kim', 'park']"
      ]
     },
     "execution_count": 39,
     "metadata": {},
     "output_type": "execute_result"
    }
   ],
   "source": [
    "a = list(d)\n"
   ]
  },
  {
   "cell_type": "code",
   "execution_count": 72,
   "id": "684406b3-e522-4cc4-9e8e-0733f678a5a8",
   "metadata": {},
   "outputs": [
    {
     "name": "stdout",
     "output_type": "stream",
     "text": [
      "3 2 1 "
     ]
    }
   ],
   "source": [
    "d = {'kim' : 3, 'park' : 2, 'youn' : 1}\n",
    "for i in d:\n",
    "    print(d[i], end=\" \")"
   ]
  },
  {
   "cell_type": "code",
   "execution_count": 76,
   "id": "6bfc7dcd-bc9a-4f1d-ac74-565e47a6d02f",
   "metadata": {},
   "outputs": [
    {
     "name": "stdin",
     "output_type": "stream",
     "text": [
      "Enter a sentence:  Python is fun!\n"
     ]
    },
    {
     "name": "stdout",
     "output_type": "stream",
     "text": [
      "{'o': 1, 'h': 1, 'f': 1, 'i': 1, '!': 1, 'P': 1, 't': 1, 's': 1, 'u': 1, ' ': 2, 'n': 2, 'y': 1}\n"
     ]
    }
   ],
   "source": [
    "sentence = input(\"Enter a sentence: \")\n",
    "\n",
    "words = set(sentence)\n",
    "\n",
    "d = {}\n",
    "\n",
    "for i in words:\n",
    "    c = sentence.count(i)\n",
    "    d[i] = c\n",
    "\n",
    "print(d)"
   ]
  },
  {
   "cell_type": "code",
   "execution_count": 77,
   "id": "6dd5df85-83bd-4c7f-a62b-332231780fd8",
   "metadata": {},
   "outputs": [
    {
     "name": "stdout",
     "output_type": "stream",
     "text": [
      "Collecting jupyterthemes\n",
      "  Downloading jupyterthemes-0.20.0-py2.py3-none-any.whl (7.0 MB)\n",
      "\u001b[2K     \u001b[38;2;114;156;31m━━━━━━━━━━━━━━━━━━━━━━━━━━━━━━━━━━━━━━━━\u001b[0m \u001b[32m7.0/7.0 MB\u001b[0m \u001b[31m18.7 MB/s\u001b[0m eta \u001b[36m0:00:00\u001b[0mm eta \u001b[36m0:00:01\u001b[0m0:01\u001b[0m:01\u001b[0m\n",
      "\u001b[?25hCollecting matplotlib>=1.4.3\n",
      "  Downloading matplotlib-3.9.1-cp310-cp310-manylinux_2_17_x86_64.manylinux2014_x86_64.whl (8.3 MB)\n",
      "\u001b[2K     \u001b[38;2;114;156;31m━━━━━━━━━━━━━━━━━━━━━━━━━━━━━━━━━━━━━━━━\u001b[0m \u001b[32m8.3/8.3 MB\u001b[0m \u001b[31m31.2 MB/s\u001b[0m eta \u001b[36m0:00:00\u001b[0mm eta \u001b[36m0:00:01\u001b[0m[36m0:00:01\u001b[0m\n",
      "\u001b[?25hRequirement already satisfied: jupyter-core in ./anaconda3/lib/python3.10/site-packages (from jupyterthemes) (5.7.2)\n",
      "Collecting lesscpy>=0.11.2\n",
      "  Downloading lesscpy-0.15.1-py2.py3-none-any.whl (46 kB)\n",
      "\u001b[2K     \u001b[38;2;114;156;31m━━━━━━━━━━━━━━━━━━━━━━━━━━━━━━━━━━━━━━━━\u001b[0m \u001b[32m46.7/46.7 kB\u001b[0m \u001b[31m8.2 MB/s\u001b[0m eta \u001b[36m0:00:00\u001b[0m\n",
      "\u001b[?25hRequirement already satisfied: notebook>=5.6.0 in ./anaconda3/lib/python3.10/site-packages (from jupyterthemes) (7.0.8)\n",
      "Requirement already satisfied: ipython>=5.4.1 in ./anaconda3/lib/python3.10/site-packages (from jupyterthemes) (8.25.0)\n",
      "Requirement already satisfied: decorator in ./anaconda3/lib/python3.10/site-packages (from ipython>=5.4.1->jupyterthemes) (5.1.1)\n",
      "Requirement already satisfied: traitlets>=5.13.0 in ./anaconda3/lib/python3.10/site-packages (from ipython>=5.4.1->jupyterthemes) (5.14.3)\n",
      "Requirement already satisfied: pexpect>4.3 in ./anaconda3/lib/python3.10/site-packages (from ipython>=5.4.1->jupyterthemes) (4.8.0)\n",
      "Requirement already satisfied: stack-data in ./anaconda3/lib/python3.10/site-packages (from ipython>=5.4.1->jupyterthemes) (0.2.0)\n",
      "Requirement already satisfied: jedi>=0.16 in ./anaconda3/lib/python3.10/site-packages (from ipython>=5.4.1->jupyterthemes) (0.19.1)\n",
      "Requirement already satisfied: pygments>=2.4.0 in ./anaconda3/lib/python3.10/site-packages (from ipython>=5.4.1->jupyterthemes) (2.15.1)\n",
      "Requirement already satisfied: exceptiongroup in ./anaconda3/lib/python3.10/site-packages (from ipython>=5.4.1->jupyterthemes) (1.2.0)\n",
      "Requirement already satisfied: typing-extensions>=4.6 in ./anaconda3/lib/python3.10/site-packages (from ipython>=5.4.1->jupyterthemes) (4.11.0)\n",
      "Requirement already satisfied: matplotlib-inline in ./anaconda3/lib/python3.10/site-packages (from ipython>=5.4.1->jupyterthemes) (0.1.6)\n",
      "Requirement already satisfied: prompt-toolkit<3.1.0,>=3.0.41 in ./anaconda3/lib/python3.10/site-packages (from ipython>=5.4.1->jupyterthemes) (3.0.43)\n",
      "Requirement already satisfied: ply in ./anaconda3/lib/python3.10/site-packages (from lesscpy>=0.11.2->jupyterthemes) (3.11)\n",
      "Collecting contourpy>=1.0.1\n",
      "  Downloading contourpy-1.2.1-cp310-cp310-manylinux_2_17_x86_64.manylinux2014_x86_64.whl (305 kB)\n",
      "\u001b[2K     \u001b[38;2;114;156;31m━━━━━━━━━━━━━━━━━━━━━━━━━━━━━━━━━━━━━━\u001b[0m \u001b[32m305.2/305.2 kB\u001b[0m \u001b[31m28.2 MB/s\u001b[0m eta \u001b[36m0:00:00\u001b[0m\n",
      "\u001b[?25hCollecting kiwisolver>=1.3.1\n",
      "  Downloading kiwisolver-1.4.5-cp310-cp310-manylinux_2_12_x86_64.manylinux2010_x86_64.whl (1.6 MB)\n",
      "\u001b[2K     \u001b[38;2;114;156;31m━━━━━━━━━━━━━━━━━━━━━━━━━━━━━━━━━━━━━━━━\u001b[0m \u001b[32m1.6/1.6 MB\u001b[0m \u001b[31m28.1 MB/s\u001b[0m eta \u001b[36m0:00:00\u001b[0m MB/s\u001b[0m eta \u001b[36m0:00:01\u001b[0m\n",
      "\u001b[?25hCollecting cycler>=0.10\n",
      "  Downloading cycler-0.12.1-py3-none-any.whl (8.3 kB)\n",
      "Collecting numpy>=1.23\n",
      "  Downloading numpy-2.0.1-cp310-cp310-manylinux_2_17_x86_64.manylinux2014_x86_64.whl (19.5 MB)\n",
      "\u001b[2K     \u001b[38;2;114;156;31m━━━━━━━━━━━━━━━━━━━━━━━━━━━━━━━━━━━━━━━━\u001b[0m \u001b[32m19.5/19.5 MB\u001b[0m \u001b[31m26.8 MB/s\u001b[0m eta \u001b[36m0:00:00\u001b[0mm eta \u001b[36m0:00:01\u001b[0m[36m0:00:01\u001b[0m\n",
      "\u001b[?25hRequirement already satisfied: pillow>=8 in ./anaconda3/lib/python3.10/site-packages (from matplotlib>=1.4.3->jupyterthemes) (10.4.0)\n",
      "Collecting pyparsing>=2.3.1\n",
      "  Downloading pyparsing-3.1.2-py3-none-any.whl (103 kB)\n",
      "\u001b[2K     \u001b[38;2;114;156;31m━━━━━━━━━━━━━━━━━━━━━━━━━━━━━━━━━━━━━━\u001b[0m \u001b[32m103.2/103.2 kB\u001b[0m \u001b[31m22.4 MB/s\u001b[0m eta \u001b[36m0:00:00\u001b[0m\n",
      "\u001b[?25hCollecting fonttools>=4.22.0\n",
      "  Downloading fonttools-4.53.1-cp310-cp310-manylinux_2_17_x86_64.manylinux2014_x86_64.whl (4.6 MB)\n",
      "\u001b[2K     \u001b[38;2;114;156;31m━━━━━━━━━━━━━━━━━━━━━━━━━━━━━━━━━━━━━━━━\u001b[0m \u001b[32m4.6/4.6 MB\u001b[0m \u001b[31m29.5 MB/s\u001b[0m eta \u001b[36m0:00:00\u001b[0mm eta \u001b[36m0:00:01\u001b[0m[36m0:00:01\u001b[0m\n",
      "\u001b[?25hRequirement already satisfied: packaging>=20.0 in ./anaconda3/lib/python3.10/site-packages (from matplotlib>=1.4.3->jupyterthemes) (24.1)\n",
      "Requirement already satisfied: python-dateutil>=2.7 in ./anaconda3/lib/python3.10/site-packages (from matplotlib>=1.4.3->jupyterthemes) (2.9.0.post0)\n",
      "Requirement already satisfied: jupyterlab<4.1,>=4.0.2 in ./anaconda3/lib/python3.10/site-packages (from notebook>=5.6.0->jupyterthemes) (4.0.11)\n",
      "Requirement already satisfied: jupyterlab-server<3,>=2.22.1 in ./anaconda3/lib/python3.10/site-packages (from notebook>=5.6.0->jupyterthemes) (2.25.1)\n",
      "Requirement already satisfied: jupyter-server<3,>=2.4.0 in ./anaconda3/lib/python3.10/site-packages (from notebook>=5.6.0->jupyterthemes) (2.14.1)\n",
      "Requirement already satisfied: tornado>=6.2.0 in ./anaconda3/lib/python3.10/site-packages (from notebook>=5.6.0->jupyterthemes) (6.4.1)\n",
      "Requirement already satisfied: notebook-shim<0.3,>=0.2 in ./anaconda3/lib/python3.10/site-packages (from notebook>=5.6.0->jupyterthemes) (0.2.3)\n",
      "Requirement already satisfied: platformdirs>=2.5 in ./anaconda3/lib/python3.10/site-packages (from jupyter-core->jupyterthemes) (3.10.0)\n",
      "Requirement already satisfied: parso<0.9.0,>=0.8.3 in ./anaconda3/lib/python3.10/site-packages (from jedi>=0.16->ipython>=5.4.1->jupyterthemes) (0.8.3)\n",
      "Requirement already satisfied: jupyter-server-terminals>=0.4.4 in ./anaconda3/lib/python3.10/site-packages (from jupyter-server<3,>=2.4.0->notebook>=5.6.0->jupyterthemes) (0.4.4)\n",
      "Requirement already satisfied: overrides>=5.0 in ./anaconda3/lib/python3.10/site-packages (from jupyter-server<3,>=2.4.0->notebook>=5.6.0->jupyterthemes) (7.4.0)\n",
      "Requirement already satisfied: argon2-cffi>=21.1 in ./anaconda3/lib/python3.10/site-packages (from jupyter-server<3,>=2.4.0->notebook>=5.6.0->jupyterthemes) (21.3.0)\n",
      "Requirement already satisfied: jinja2>=3.0.3 in ./anaconda3/lib/python3.10/site-packages (from jupyter-server<3,>=2.4.0->notebook>=5.6.0->jupyterthemes) (3.1.4)\n",
      "Requirement already satisfied: nbconvert>=6.4.4 in ./anaconda3/lib/python3.10/site-packages (from jupyter-server<3,>=2.4.0->notebook>=5.6.0->jupyterthemes) (7.10.0)\n",
      "Requirement already satisfied: jupyter-client>=7.4.4 in ./anaconda3/lib/python3.10/site-packages (from jupyter-server<3,>=2.4.0->notebook>=5.6.0->jupyterthemes) (8.6.0)\n",
      "Requirement already satisfied: jupyter-events>=0.9.0 in ./anaconda3/lib/python3.10/site-packages (from jupyter-server<3,>=2.4.0->notebook>=5.6.0->jupyterthemes) (0.10.0)\n",
      "Requirement already satisfied: websocket-client>=1.7 in ./anaconda3/lib/python3.10/site-packages (from jupyter-server<3,>=2.4.0->notebook>=5.6.0->jupyterthemes) (1.8.0)\n",
      "Requirement already satisfied: prometheus-client>=0.9 in ./anaconda3/lib/python3.10/site-packages (from jupyter-server<3,>=2.4.0->notebook>=5.6.0->jupyterthemes) (0.14.1)\n",
      "Requirement already satisfied: nbformat>=5.3.0 in ./anaconda3/lib/python3.10/site-packages (from jupyter-server<3,>=2.4.0->notebook>=5.6.0->jupyterthemes) (5.9.2)\n",
      "Requirement already satisfied: pyzmq>=24 in ./anaconda3/lib/python3.10/site-packages (from jupyter-server<3,>=2.4.0->notebook>=5.6.0->jupyterthemes) (25.1.2)\n",
      "Requirement already satisfied: anyio>=3.1.0 in ./anaconda3/lib/python3.10/site-packages (from jupyter-server<3,>=2.4.0->notebook>=5.6.0->jupyterthemes) (4.2.0)\n",
      "Requirement already satisfied: send2trash>=1.8.2 in ./anaconda3/lib/python3.10/site-packages (from jupyter-server<3,>=2.4.0->notebook>=5.6.0->jupyterthemes) (1.8.2)\n",
      "Requirement already satisfied: terminado>=0.8.3 in ./anaconda3/lib/python3.10/site-packages (from jupyter-server<3,>=2.4.0->notebook>=5.6.0->jupyterthemes) (0.17.1)\n",
      "Requirement already satisfied: tomli in ./anaconda3/lib/python3.10/site-packages (from jupyterlab<4.1,>=4.0.2->notebook>=5.6.0->jupyterthemes) (2.0.1)\n",
      "Requirement already satisfied: jupyter-lsp>=2.0.0 in ./anaconda3/lib/python3.10/site-packages (from jupyterlab<4.1,>=4.0.2->notebook>=5.6.0->jupyterthemes) (2.2.0)\n",
      "Requirement already satisfied: async-lru>=1.0.0 in ./anaconda3/lib/python3.10/site-packages (from jupyterlab<4.1,>=4.0.2->notebook>=5.6.0->jupyterthemes) (2.0.4)\n",
      "Requirement already satisfied: ipykernel in ./anaconda3/lib/python3.10/site-packages (from jupyterlab<4.1,>=4.0.2->notebook>=5.6.0->jupyterthemes) (6.28.0)\n",
      "Requirement already satisfied: babel>=2.10 in ./anaconda3/lib/python3.10/site-packages (from jupyterlab-server<3,>=2.22.1->notebook>=5.6.0->jupyterthemes) (2.11.0)\n",
      "Requirement already satisfied: requests>=2.31 in ./anaconda3/lib/python3.10/site-packages (from jupyterlab-server<3,>=2.22.1->notebook>=5.6.0->jupyterthemes) (2.32.2)\n",
      "Requirement already satisfied: jsonschema>=4.18.0 in ./anaconda3/lib/python3.10/site-packages (from jupyterlab-server<3,>=2.22.1->notebook>=5.6.0->jupyterthemes) (4.19.2)\n",
      "Requirement already satisfied: json5>=0.9.0 in ./anaconda3/lib/python3.10/site-packages (from jupyterlab-server<3,>=2.22.1->notebook>=5.6.0->jupyterthemes) (0.9.6)\n",
      "Requirement already satisfied: ptyprocess>=0.5 in ./anaconda3/lib/python3.10/site-packages (from pexpect>4.3->ipython>=5.4.1->jupyterthemes) (0.7.0)\n",
      "Requirement already satisfied: wcwidth in ./anaconda3/lib/python3.10/site-packages (from prompt-toolkit<3.1.0,>=3.0.41->ipython>=5.4.1->jupyterthemes) (0.2.5)\n",
      "Requirement already satisfied: six>=1.5 in ./anaconda3/lib/python3.10/site-packages (from python-dateutil>=2.7->matplotlib>=1.4.3->jupyterthemes) (1.16.0)\n",
      "Requirement already satisfied: executing in ./anaconda3/lib/python3.10/site-packages (from stack-data->ipython>=5.4.1->jupyterthemes) (0.8.3)\n",
      "Requirement already satisfied: pure-eval in ./anaconda3/lib/python3.10/site-packages (from stack-data->ipython>=5.4.1->jupyterthemes) (0.2.2)\n",
      "Requirement already satisfied: asttokens in ./anaconda3/lib/python3.10/site-packages (from stack-data->ipython>=5.4.1->jupyterthemes) (2.0.5)\n",
      "Requirement already satisfied: idna>=2.8 in ./anaconda3/lib/python3.10/site-packages (from anyio>=3.1.0->jupyter-server<3,>=2.4.0->notebook>=5.6.0->jupyterthemes) (3.7)\n",
      "Requirement already satisfied: sniffio>=1.1 in ./anaconda3/lib/python3.10/site-packages (from anyio>=3.1.0->jupyter-server<3,>=2.4.0->notebook>=5.6.0->jupyterthemes) (1.3.0)\n",
      "Requirement already satisfied: argon2-cffi-bindings in ./anaconda3/lib/python3.10/site-packages (from argon2-cffi>=21.1->jupyter-server<3,>=2.4.0->notebook>=5.6.0->jupyterthemes) (21.2.0)\n",
      "Requirement already satisfied: pytz>=2015.7 in ./anaconda3/lib/python3.10/site-packages (from babel>=2.10->jupyterlab-server<3,>=2.22.1->notebook>=5.6.0->jupyterthemes) (2024.1)\n",
      "Requirement already satisfied: MarkupSafe>=2.0 in ./anaconda3/lib/python3.10/site-packages (from jinja2>=3.0.3->jupyter-server<3,>=2.4.0->notebook>=5.6.0->jupyterthemes) (2.1.3)\n",
      "Requirement already satisfied: referencing>=0.28.4 in ./anaconda3/lib/python3.10/site-packages (from jsonschema>=4.18.0->jupyterlab-server<3,>=2.22.1->notebook>=5.6.0->jupyterthemes) (0.30.2)\n",
      "Requirement already satisfied: attrs>=22.2.0 in ./anaconda3/lib/python3.10/site-packages (from jsonschema>=4.18.0->jupyterlab-server<3,>=2.22.1->notebook>=5.6.0->jupyterthemes) (23.1.0)\n",
      "Requirement already satisfied: jsonschema-specifications>=2023.03.6 in ./anaconda3/lib/python3.10/site-packages (from jsonschema>=4.18.0->jupyterlab-server<3,>=2.22.1->notebook>=5.6.0->jupyterthemes) (2023.7.1)\n",
      "Requirement already satisfied: rpds-py>=0.7.1 in ./anaconda3/lib/python3.10/site-packages (from jsonschema>=4.18.0->jupyterlab-server<3,>=2.22.1->notebook>=5.6.0->jupyterthemes) (0.10.6)\n",
      "Requirement already satisfied: pyyaml>=5.3 in ./anaconda3/lib/python3.10/site-packages (from jupyter-events>=0.9.0->jupyter-server<3,>=2.4.0->notebook>=5.6.0->jupyterthemes) (6.0.1)\n",
      "Requirement already satisfied: rfc3986-validator>=0.1.1 in ./anaconda3/lib/python3.10/site-packages (from jupyter-events>=0.9.0->jupyter-server<3,>=2.4.0->notebook>=5.6.0->jupyterthemes) (0.1.1)\n",
      "Requirement already satisfied: rfc3339-validator in ./anaconda3/lib/python3.10/site-packages (from jupyter-events>=0.9.0->jupyter-server<3,>=2.4.0->notebook>=5.6.0->jupyterthemes) (0.1.4)\n",
      "Requirement already satisfied: python-json-logger>=2.0.4 in ./anaconda3/lib/python3.10/site-packages (from jupyter-events>=0.9.0->jupyter-server<3,>=2.4.0->notebook>=5.6.0->jupyterthemes) (2.0.7)\n",
      "Requirement already satisfied: bleach!=5.0.0 in ./anaconda3/lib/python3.10/site-packages (from nbconvert>=6.4.4->jupyter-server<3,>=2.4.0->notebook>=5.6.0->jupyterthemes) (4.1.0)\n",
      "Requirement already satisfied: pandocfilters>=1.4.1 in ./anaconda3/lib/python3.10/site-packages (from nbconvert>=6.4.4->jupyter-server<3,>=2.4.0->notebook>=5.6.0->jupyterthemes) (1.5.0)\n",
      "Requirement already satisfied: mistune<4,>=2.0.3 in ./anaconda3/lib/python3.10/site-packages (from nbconvert>=6.4.4->jupyter-server<3,>=2.4.0->notebook>=5.6.0->jupyterthemes) (2.0.4)\n",
      "Requirement already satisfied: tinycss2 in ./anaconda3/lib/python3.10/site-packages (from nbconvert>=6.4.4->jupyter-server<3,>=2.4.0->notebook>=5.6.0->jupyterthemes) (1.2.1)\n",
      "Requirement already satisfied: defusedxml in ./anaconda3/lib/python3.10/site-packages (from nbconvert>=6.4.4->jupyter-server<3,>=2.4.0->notebook>=5.6.0->jupyterthemes) (0.7.1)\n",
      "Requirement already satisfied: nbclient>=0.5.0 in ./anaconda3/lib/python3.10/site-packages (from nbconvert>=6.4.4->jupyter-server<3,>=2.4.0->notebook>=5.6.0->jupyterthemes) (0.8.0)\n",
      "Requirement already satisfied: jupyterlab-pygments in ./anaconda3/lib/python3.10/site-packages (from nbconvert>=6.4.4->jupyter-server<3,>=2.4.0->notebook>=5.6.0->jupyterthemes) (0.1.2)\n",
      "Requirement already satisfied: beautifulsoup4 in ./anaconda3/lib/python3.10/site-packages (from nbconvert>=6.4.4->jupyter-server<3,>=2.4.0->notebook>=5.6.0->jupyterthemes) (4.12.3)\n",
      "Requirement already satisfied: fastjsonschema in ./anaconda3/lib/python3.10/site-packages (from nbformat>=5.3.0->jupyter-server<3,>=2.4.0->notebook>=5.6.0->jupyterthemes) (2.16.2)\n",
      "Requirement already satisfied: certifi>=2017.4.17 in ./anaconda3/lib/python3.10/site-packages (from requests>=2.31->jupyterlab-server<3,>=2.22.1->notebook>=5.6.0->jupyterthemes) (2024.7.4)\n",
      "Requirement already satisfied: urllib3<3,>=1.21.1 in ./anaconda3/lib/python3.10/site-packages (from requests>=2.31->jupyterlab-server<3,>=2.22.1->notebook>=5.6.0->jupyterthemes) (2.2.2)\n",
      "Requirement already satisfied: charset-normalizer<4,>=2 in ./anaconda3/lib/python3.10/site-packages (from requests>=2.31->jupyterlab-server<3,>=2.22.1->notebook>=5.6.0->jupyterthemes) (2.0.4)\n",
      "Requirement already satisfied: comm>=0.1.1 in ./anaconda3/lib/python3.10/site-packages (from ipykernel->jupyterlab<4.1,>=4.0.2->notebook>=5.6.0->jupyterthemes) (0.2.1)\n",
      "Requirement already satisfied: debugpy>=1.6.5 in ./anaconda3/lib/python3.10/site-packages (from ipykernel->jupyterlab<4.1,>=4.0.2->notebook>=5.6.0->jupyterthemes) (1.6.7)\n",
      "Requirement already satisfied: nest-asyncio in ./anaconda3/lib/python3.10/site-packages (from ipykernel->jupyterlab<4.1,>=4.0.2->notebook>=5.6.0->jupyterthemes) (1.6.0)\n",
      "Requirement already satisfied: psutil in ./anaconda3/lib/python3.10/site-packages (from ipykernel->jupyterlab<4.1,>=4.0.2->notebook>=5.6.0->jupyterthemes) (5.9.0)\n",
      "Requirement already satisfied: webencodings in ./anaconda3/lib/python3.10/site-packages (from bleach!=5.0.0->nbconvert>=6.4.4->jupyter-server<3,>=2.4.0->notebook>=5.6.0->jupyterthemes) (0.5.1)\n",
      "Requirement already satisfied: jsonpointer>1.13 in ./anaconda3/lib/python3.10/site-packages (from jsonschema>=4.18.0->jupyterlab-server<3,>=2.22.1->notebook>=5.6.0->jupyterthemes) (2.1)\n",
      "Collecting uri-template\n",
      "  Downloading uri_template-1.3.0-py3-none-any.whl (11 kB)\n",
      "Collecting webcolors>=1.11\n",
      "  Downloading webcolors-24.6.0-py3-none-any.whl (14 kB)\n",
      "Collecting isoduration\n",
      "  Downloading isoduration-20.11.0-py3-none-any.whl (11 kB)\n",
      "Collecting fqdn\n",
      "  Downloading fqdn-1.5.1-py3-none-any.whl (9.1 kB)\n",
      "Requirement already satisfied: cffi>=1.0.1 in ./anaconda3/lib/python3.10/site-packages (from argon2-cffi-bindings->argon2-cffi>=21.1->jupyter-server<3,>=2.4.0->notebook>=5.6.0->jupyterthemes) (1.16.0)\n",
      "Requirement already satisfied: soupsieve>1.2 in ./anaconda3/lib/python3.10/site-packages (from beautifulsoup4->nbconvert>=6.4.4->jupyter-server<3,>=2.4.0->notebook>=5.6.0->jupyterthemes) (2.5)\n",
      "Requirement already satisfied: pycparser in ./anaconda3/lib/python3.10/site-packages (from cffi>=1.0.1->argon2-cffi-bindings->argon2-cffi>=21.1->jupyter-server<3,>=2.4.0->notebook>=5.6.0->jupyterthemes) (2.21)\n",
      "Collecting arrow>=0.15.0\n",
      "  Downloading arrow-1.3.0-py3-none-any.whl (66 kB)\n",
      "\u001b[2K     \u001b[38;2;114;156;31m━━━━━━━━━━━━━━━━━━━━━━━━━━━━━━━━━━━━━━━━\u001b[0m \u001b[32m66.4/66.4 kB\u001b[0m \u001b[31m15.7 MB/s\u001b[0m eta \u001b[36m0:00:00\u001b[0m\n",
      "\u001b[?25hCollecting types-python-dateutil>=2.8.10\n",
      "  Downloading types_python_dateutil-2.9.0.20240316-py3-none-any.whl (9.7 kB)\n",
      "Installing collected packages: webcolors, uri-template, types-python-dateutil, pyparsing, numpy, lesscpy, kiwisolver, fqdn, fonttools, cycler, contourpy, arrow, matplotlib, isoduration, jupyterthemes\n",
      "Successfully installed arrow-1.3.0 contourpy-1.2.1 cycler-0.12.1 fonttools-4.53.1 fqdn-1.5.1 isoduration-20.11.0 jupyterthemes-0.20.0 kiwisolver-1.4.5 lesscpy-0.15.1 matplotlib-3.9.1 numpy-2.0.1 pyparsing-3.1.2 types-python-dateutil-2.9.0.20240316 uri-template-1.3.0 webcolors-24.6.0\n",
      "Note: you may need to restart the kernel to use updated packages.\n"
     ]
    }
   ],
   "source": [
    "pip install jupyterthemes"
   ]
  },
  {
   "cell_type": "code",
   "execution_count": 78,
   "id": "18b5b4c7-93ac-4132-ab98-1160c4166270",
   "metadata": {},
   "outputs": [
    {
     "ename": "SyntaxError",
     "evalue": "invalid syntax (4074323328.py, line 1)",
     "output_type": "error",
     "traceback": [
      "\u001b[0;36m  Cell \u001b[0;32mIn[78], line 1\u001b[0;36m\u001b[0m\n\u001b[0;31m    jt -t onedock\u001b[0m\n\u001b[0m          ^\u001b[0m\n\u001b[0;31mSyntaxError\u001b[0m\u001b[0;31m:\u001b[0m invalid syntax\n"
     ]
    }
   ],
   "source": [
    "jt -t onedock"
   ]
  },
  {
   "cell_type": "code",
   "execution_count": null,
   "id": "aaacd054-0449-453e-8a23-62ba344c50f6",
   "metadata": {},
   "outputs": [],
   "source": []
  }
 ],
 "metadata": {
  "kernelspec": {
   "display_name": "Python 3 (ipykernel)",
   "language": "python",
   "name": "python3"
  },
  "language_info": {
   "codemirror_mode": {
    "name": "ipython",
    "version": 3
   },
   "file_extension": ".py",
   "mimetype": "text/x-python",
   "name": "python",
   "nbconvert_exporter": "python",
   "pygments_lexer": "ipython3",
   "version": "3.10.14"
  }
 },
 "nbformat": 4,
 "nbformat_minor": 5
}
