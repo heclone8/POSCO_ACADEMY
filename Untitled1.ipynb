{
 "cells": [
  {
   "cell_type": "code",
   "execution_count": 2,
   "id": "dff5d600-9847-44a6-a271-6e3080ea6c30",
   "metadata": {},
   "outputs": [
    {
     "name": "stdout",
     "output_type": "stream",
     "text": [
      "2\n"
     ]
    }
   ],
   "source": [
    "a = 2\n",
    "print(a)"
   ]
  },
  {
   "cell_type": "code",
   "execution_count": 46,
   "id": "6dafae52-8c03-453a-b7eb-9d20e3b620fd",
   "metadata": {},
   "outputs": [
    {
     "name": "stdout",
     "output_type": "stream",
     "text": [
      "6 14\n",
      "6 14\n"
     ]
    }
   ],
   "source": [
    "def my_len(x):\n",
    "    length = 0\n",
    "    for i in x:\n",
    "        length += 1\n",
    "    return length\n",
    "        \n",
    "a = [5, 5, 6, 7, 8, 3]\n",
    "b = 'Life is short.'\n",
    "\n",
    "print(len(a), len(b))\n",
    "print(my_len(a), my_len(b))"
   ]
  },
  {
   "cell_type": "code",
   "execution_count": 49,
   "id": "29a90ce9-0166-47e1-96b2-136a9a3e006e",
   "metadata": {},
   "outputs": [
    {
     "data": {
      "text/plain": [
       "40320"
      ]
     },
     "execution_count": 49,
     "metadata": {},
     "output_type": "execute_result"
    }
   ],
   "source": [
    "def mult(a, b):\n",
    "    c = a\n",
    "    for i in range(b - a + 1):\n",
    "        if i == 0:\n",
    "            continue\n",
    "        else:   \n",
    "            c *= (a + i)\n",
    "    return c\n",
    "    \n",
    "mult(2, 8)"
   ]
  },
  {
   "cell_type": "code",
   "execution_count": 43,
   "id": "41d43aa4-8ac5-45bd-b65d-27f72bb91cc7",
   "metadata": {},
   "outputs": [
    {
     "name": "stdout",
     "output_type": "stream",
     "text": [
      "[3, 4, -6, -3]\n",
      "7 -9\n",
      "[0, 0, 0, 0, 0, 0, 0, 0, 0, 1, -1]\n",
      "1 -1\n"
     ]
    }
   ],
   "source": [
    "def sum_pos_neg(l):\n",
    "    print(l)\n",
    "    a = len(l)\n",
    "    pv = 0 #positive_value\n",
    "    nv = 0 #negative_value\n",
    "    for i in range(a):\n",
    "        if l[i] > 0:\n",
    "            pv += l[i]\n",
    "        elif l[i] < 0:\n",
    "            nv += l[i]\n",
    "        else:\n",
    "            continue\n",
    "    return pv, nv\n",
    "\n",
    "possum, negsum = sum_pos_neg([3, 4, -6, -3])\n",
    "print(possum, negsum)\n",
    "\n",
    "mylist = [0, 0, 0, 0, 0, 0, 0, 0, 0, 1, -1]\n",
    "possum2, negsum2 = sum_pos_neg(mylist)\n",
    "print(possum2, negsum2)"
   ]
  },
  {
   "cell_type": "code",
   "execution_count": 56,
   "id": "39115e39-5c6f-412d-99b7-d843fb6d50c8",
   "metadata": {},
   "outputs": [
    {
     "data": {
      "text/plain": [
       "1680"
      ]
     },
     "execution_count": 56,
     "metadata": {},
     "output_type": "execute_result"
    }
   ],
   "source": [
    "def mult(a, b):\n",
    "    answer = 1\n",
    "    for i in range(a, b+1):\n",
    "        answer *= i\n",
    "    return answer\n",
    "\n",
    "mult(5, 8)"
   ]
  },
  {
   "cell_type": "markdown",
   "id": "9da56343-60eb-46f7-bf75-841b6fe390d4",
   "metadata": {},
   "source": [
    "## Task 4"
   ]
  },
  {
   "cell_type": "code",
   "execution_count": 82,
   "id": "9fb8582e-1935-4cc7-8b89-97f87a72e41c",
   "metadata": {},
   "outputs": [
    {
     "name": "stdout",
     "output_type": "stream",
     "text": [
      "[1.5, 1.5]\n"
     ]
    }
   ],
   "source": [
    "def vector_sum(vector, *vectors):\n",
    "    sum = [vector[0], vector[1]]\n",
    "    for i in vectors:\n",
    "        sum[0] += i[0]\n",
    "        sum[1] += i[1]\n",
    "    return sum\n",
    "    \n",
    "v1 = [0, 1]\n",
    "v2 = [0.5, 0.5]\n",
    "v3 = [1, 0]\n",
    "\n",
    "m1 = vector_sum(v1, v2, v3)\n",
    "print(m1)"
   ]
  },
  {
   "cell_type": "markdown",
   "id": "cfe40d5f-c04c-4c06-b3db-64dcb17bc687",
   "metadata": {},
   "source": [
    "## Task 5"
   ]
  },
  {
   "cell_type": "code",
   "execution_count": null,
   "id": "3d402bb7-8c59-4a6f-87e4-a81edd57e1fc",
   "metadata": {},
   "outputs": [],
   "source": [
    "def merge_list(l1 = [0], l2 = [0]):\n",
    "    l3 = l1 + l2\n",
    "    return sorted(l3)"
   ]
  }
 ],
 "metadata": {
  "kernelspec": {
   "display_name": "Python 3 (ipykernel)",
   "language": "python",
   "name": "python3"
  },
  "language_info": {
   "codemirror_mode": {
    "name": "ipython",
    "version": 3
   },
   "file_extension": ".py",
   "mimetype": "text/x-python",
   "name": "python",
   "nbconvert_exporter": "python",
   "pygments_lexer": "ipython3",
   "version": "3.10.14"
  }
 },
 "nbformat": 4,
 "nbformat_minor": 5
}
