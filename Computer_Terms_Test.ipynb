{
 "cells": [
  {
   "cell_type": "markdown",
   "id": "dc9e482f-970c-4fb0-b3d5-ec8b5c5847f1",
   "metadata": {},
   "source": [
    "# 1. Computational Thinking (CT)"
   ]
  },
  {
   "cell_type": "markdown",
   "id": "0e076290-a0d9-453b-b854-5a73a12e56f8",
   "metadata": {},
   "source": [
    "= 3A(Abstraction, Algorithm, Automation)\n",
    "\n",
    "* Computational Thinking is a problem-solving technique that imitates the process computer programmers go through when writing computer programmes and algorithms. (represented by University of York)\n",
    "\n",
    "* Computational Thinking refers to the throught processes involved in formulating problems so their solutions can be represented as compuatational steps and algorithms.\n",
    "In education, CT is a set of problem-solving methods that involve expressing problems and their solutions in ways that a computer could also execute(실행하다). (represented by Wikipedia)\n",
    "\n",
    "CT라는것은 결국 실제 생활속에서 일어날 수 있는 다양한 문제해결의 과정을 컴퓨터로 해결하기 위하여 인간의 사고 과정을 컴퓨터가 처리할 수 있는 과정으로 생각하게끔 하는 사고 과정을 말한다. 컴퓨터가 이해할 수 있게 내용을 재구성(추상화), 컴퓨터가 처리할 수 있는 과정으로(알고리즘화), 그것을 효율적으로 이용하게끔 하는(자동화) 모든 행위를 말한다.\n"
   ]
  },
  {
   "cell_type": "markdown",
   "id": "85487c17-0dce-4e7d-9528-a28272e69aba",
   "metadata": {},
   "source": [
    "# 2. ASCII CODE"
   ]
  },
  {
   "cell_type": "markdown",
   "id": "976965cb-c186-4000-ae2e-ad2286a696f7",
   "metadata": {},
   "source": [
    "ASCII(an acronym(두문자어) for American Standard Code for Information Interchage) is a character encoding standard for electronic communication. ASCII codes represent text in computers, telecommunications equipment, and other devices. Because of technical limitations of computer system at the time it was invented, ASCII has just 128 code points,of which only 95 are printable characters, which severely limited its scope\n",
    "Modern computer system have evolved to use Unicode, which has over a million code points, but the first 128 of these are the same as the ASCII set.\n",
    "\n",
    "컴퓨터, 정보통신기기, 기타 장비들에 사용되는 표준 인코딩 언어이다. 초기 개발에 있어서는 기술의 한계 때문에 128개의 표준 코드부호가 결정되었다. (128개면 2의 7제곱이다.) 현대에는 보통 이보다 진보된 Unicode가 사용된다(재미있는점은 Unicode의 초기 128개는 모두 ASCII에서와 동일하다고 한다)"
   ]
  },
  {
   "cell_type": "markdown",
   "id": "cb6a7231-c4b6-45a3-83ae-c73bf5839a24",
   "metadata": {},
   "source": [
    "# 3. Digital Literacy"
   ]
  },
  {
   "cell_type": "markdown",
   "id": "465ac885-008b-4e43-8cfe-828bf6e75ef4",
   "metadata": {},
   "source": [
    "Digital Literacy is an individual's ability to find, evaluate, and communicate information using typing or digital media platforms. It is a combination of both technical and cognitive abilities in using information and communication technologies to creave, evaluate, and share information.(wikipedia)\n",
    "\n",
    "우리가 평소에 하는 모든 지적인 활동, 예를 들면 읽기, 찾기, 소통, 이런 모든 활동들을 디지털을 이용하여 할 수 있는 개개인의 능력이다. 쉽게 말해서 평소 우리가 하는 모든 행동에 디지털적 요소(컴퓨터, 인공지능, 모바일등)을 얼마나 잘 활용할 수 있는지를 보는 것이다. \n",
    "\n",
    "Digital literacy is important for a number of reasons. it can improve learning, help students, discern(분별하다) misinformation and it gives them access to a wide variety of resources, among other things.(University of San Diego)\n",
    "\n",
    "정보가 넘처나는 현대 사회에서 개개인이 얼머나 유익한 정보를 충분히 활용하는지는 이제 인공지능 시대에 접하면서 선택이 아닌 필수 역량이 되어가고 있다."
   ]
  },
  {
   "cell_type": "markdown",
   "id": "b2ddca3a-d0f1-4d38-98b0-ca7e58a5263a",
   "metadata": {},
   "source": [
    "# 4. Difference between AI, ML and DL"
   ]
  },
  {
   "cell_type": "markdown",
   "id": "03402fae-a1ca-4d00-a7ec-b880b13b11d5",
   "metadata": {},
   "source": [
    "공통적인 측면에서 인간이 그동안 담당해왔던 반복적인 작업을 기계 및 컴퓨터가 대체하는것은 물론이고, 더 나아가서 컴퓨터라는 기기를 활용하여 수준 높은 고차원적인 문제를 해결하려는 공통적인 특징이 있다.\n",
    "\n",
    "물론 교과서적 정석인 ML과 DL의 차이가 어딘가에는 쓰여져 있겠지만, 아무리 읽어봐도 별로 감흥, 감동, 잔잔한 의미를 부여하지 못하는 것 같아서 내가 느끼는 그 차이점을 적고자 한다.\n",
    "\n",
    "ML = AI를 컴퓨터(수학) 그 본질에 충실하게 쓰는 역할이라고 본다. 본인이 느끼기에는 깊이는 얕을 수 있어도 그 활용범위는 굉장히 방대하다. 애초에 컴퓨터를 수학적 계산하는 장치로 발명하지 않았는가?\n",
    "\n",
    "DL = AI를 인간의 사고방식을 모방하려는 역할이 강하다. 인간의 초점에 맞춰저 있어서 범위가 좁을 수 있어도 그 분야의 깊이는 남다르다. 인공 신경망을 모방하려는 그 대표적인 예라고 할 수 있겠다."
   ]
  },
  {
   "cell_type": "markdown",
   "id": "fa195ab1-daf9-41c6-8e9c-f33b9b7ccfe9",
   "metadata": {},
   "source": [
    "# 5. ML Type (지도 / 비지도 / 강화)"
   ]
  },
  {
   "cell_type": "markdown",
   "id": "6b618cab-fefb-4fe6-ab0d-c7399f044a5a",
   "metadata": {},
   "source": [
    "Machine Learning은 크게 3가지 타입으로 나뉜다.\n",
    "* https://rubber-tree.tistory.com/129\n",
    "(Supervised / Unsupervised / Reinforcement(이건 몰랐다))\n",
    "\n",
    "* Supervised\n",
    "  훈련값과 정답값이 모두 주어지며 보통 회귀 문제나 분류 문제에 대표적으로 이용된다. 이 부분은 컴퓨터공학의 느낌 보다는 수학적인 느낌이 가깝다. 왜냐하면 결국 오차를 최소화하는 방향으로 알고리즘이 흘러가니까...\n",
    "\n",
    "* Unsupervised\n",
    "  정답은 없다. 다만 수학적인 방법을 통하여 가장 어떻게 하면 공통된 특징을 잘 추출해낼 수 있을까 하는 그 생각에서부터 시작되었다. 빅데이터 공모전 하다가 처음 알게 되었는데 사람이 거시적으로 구별해내거나 다량의 자료로부터 무언가 공통적인 요소들로 하나씩 묶어내는 그 자체가 굉장히 신기했었다\n",
    "\n",
    "* Reinforcement\n",
    "  잘하면 상점을 주고, 못하면 벌점을 준다. 이것을 토대로 모델이 가장 상점을 많이 받을 수 있는 방향으로 움직이게 하는 알고리즘이다. 자동제어 폐루프 시스템과 비슷해 보이는데 결정적인 목표가 다르다고 볼 수 있다\n",
    "  강화 학습은 최대의 이익을 달성하기 위한 알고리즘으로 움직인다.\n",
    "  제어공학은 설정된 목표에 다다르기 위한 수학적 모델링을 제공한다."
   ]
  },
  {
   "cell_type": "markdown",
   "id": "6a3cc059-53b6-497d-9d20-835b9082ce54",
   "metadata": {},
   "source": [
    "# 6. Digital Twin"
   ]
  },
  {
   "cell_type": "markdown",
   "id": "1f5f7cb4-67f3-41ba-b984-3b6aa93026ea",
   "metadata": {},
   "source": []
  },
  {
   "cell_type": "markdown",
   "id": "144300dd-6853-405e-8c38-fc27016aa0b9",
   "metadata": {},
   "source": [
    "# 7. Computer Vision"
   ]
  },
  {
   "cell_type": "markdown",
   "id": "7867d02c-3478-4733-9547-ac97fcafe09d",
   "metadata": {},
   "source": []
  },
  {
   "cell_type": "markdown",
   "id": "4beb7d18-45a1-48c3-84b5-94730126ab6d",
   "metadata": {},
   "source": []
  },
  {
   "cell_type": "markdown",
   "id": "1e84442a-05c1-4044-ab49-dd1ef675a69c",
   "metadata": {},
   "source": []
  },
  {
   "cell_type": "markdown",
   "id": "06514fc9-9fea-4f0f-97ab-6375a1889814",
   "metadata": {},
   "source": []
  },
  {
   "cell_type": "markdown",
   "id": "254ac500-715f-4db2-bbda-dd8bc435e6f9",
   "metadata": {},
   "source": []
  },
  {
   "cell_type": "markdown",
   "id": "3e94b652-e57e-4ed2-a5ce-566eb6f6ca2c",
   "metadata": {},
   "source": []
  },
  {
   "cell_type": "markdown",
   "id": "31caf4a2-68ee-4c40-95ba-afdb7ca8e850",
   "metadata": {},
   "source": []
  },
  {
   "cell_type": "markdown",
   "id": "28ca8a43-3a63-432b-bcef-0d606001c067",
   "metadata": {},
   "source": []
  },
  {
   "cell_type": "markdown",
   "id": "fb34dc52-9588-4f35-b577-9e6d11a15349",
   "metadata": {},
   "source": []
  },
  {
   "cell_type": "markdown",
   "id": "d34fb9c0-1d5f-4f16-b073-fd33d375e526",
   "metadata": {},
   "source": []
  },
  {
   "cell_type": "markdown",
   "id": "d02df060-a1a7-4057-8f4a-069f598693d1",
   "metadata": {},
   "source": []
  }
 ],
 "metadata": {
  "kernelspec": {
   "display_name": "Python 3 (ipykernel)",
   "language": "python",
   "name": "python3"
  },
  "language_info": {
   "codemirror_mode": {
    "name": "ipython",
    "version": 3
   },
   "file_extension": ".py",
   "mimetype": "text/x-python",
   "name": "python",
   "nbconvert_exporter": "python",
   "pygments_lexer": "ipython3",
   "version": "3.10.14"
  }
 },
 "nbformat": 4,
 "nbformat_minor": 5
}
