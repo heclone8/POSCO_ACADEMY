{
 "cells": [
  {
   "cell_type": "markdown",
   "id": "dc9e482f-970c-4fb0-b3d5-ec8b5c5847f1",
   "metadata": {},
   "source": [
    "# 1. Computational Thinking (CT)"
   ]
  },
  {
   "cell_type": "markdown",
   "id": "0e076290-a0d9-453b-b854-5a73a12e56f8",
   "metadata": {},
   "source": [
    "= 3A(Abstraction, Algorithm, Automation)\n",
    "\n",
    "* Computational Thinking is a problem-solving technique that imitates the process computer programmers go through when writing computer programmes and algorithms. (represented by University of York)\n",
    "\n",
    "* Computational Thinking refers to the throught processes involved in formulating problems so their solutions can be represented as compuatational steps and algorithms.\n",
    "In education, CT is a set of problem-solving methods that involve expressing problems and their solutions in ways that a computer could also execute(실행하다). (represented by Wikipedia)\n",
    "\n",
    "CT라는것은 결국 실제 생활속에서 일어날 수 있는 다양한 문제해결의 과정을 컴퓨터로 해결하기 위하여 인간의 사고 과정을 컴퓨터가 처리할 수 있는 과정으로 생각하게끔 하는 사고 과정을 말한다. 컴퓨터가 이해할 수 있게 내용을 재구성(추상화), 컴퓨터가 처리할 수 있는 과정으로(알고리즘화), 그것을 효율적으로 이용하게끔 하는(자동화) 모든 행위를 말한다.\n"
   ]
  },
  {
   "cell_type": "markdown",
   "id": "85487c17-0dce-4e7d-9528-a28272e69aba",
   "metadata": {},
   "source": [
    "# 2. ASCII CODE"
   ]
  },
  {
   "cell_type": "markdown",
   "id": "976965cb-c186-4000-ae2e-ad2286a696f7",
   "metadata": {},
   "source": [
    "ASCII(an acronym(두문자어) for American Standard Code for Information Interchage) is a character encoding standard for electronic communication. ASCII codes represent text in computers, telecommunications equipment, and other devices. Because of technical limitations of computer system at the time it was invented, ASCII has just 128 code points,of which only 95 are printable characters, which severely limited its scope\n",
    "Modern computer system have evolved to use Unicode, which has over a million code points, but the first 128 of these are the same as the ASCII set.\n",
    "\n",
    "컴퓨터, 정보통신기기, 기타 장비들에 사용되는 표준 인코딩 언어이다. 초기 개발에 있어서는 기술의 한계 때문에 128개의 표준 코드부호가 결정되었다. (128개면 2의 7제곱이다.) 현대에는 보통 이보다 진보된 Unicode가 사용된다(재미있는점은 Unicode의 초기 128개는 모두 ASCII에서와 동일하다고 한다)"
   ]
  },
  {
   "cell_type": "markdown",
   "id": "cb6a7231-c4b6-45a3-83ae-c73bf5839a24",
   "metadata": {},
   "source": [
    "# 3. Digital Literacy"
   ]
  },
  {
   "cell_type": "markdown",
   "id": "465ac885-008b-4e43-8cfe-828bf6e75ef4",
   "metadata": {},
   "source": [
    "Digital Literacy is an individual's ability to find, evaluate, and communicate information using typing or digital media platforms. It is a combination of both technical and cognitive abilities in using information and communication technologies to creave, evaluate, and share information.(wikipedia)\n",
    "\n",
    "우리가 평소에 하는 모든 지적인 활동, 예를 들면 읽기, 찾기, 소통, 이런 모든 활동들을 디지털을 이용하여 할 수 있는 개개인의 능력이다. 쉽게 말해서 평소 우리가 하는 모든 행동에 디지털적 요소(컴퓨터, 인공지능, 모바일등)을 얼마나 잘 활용할 수 있는지를 보는 것이다. \n",
    "\n",
    "Digital literacy is important for a number of reasons. it can improve learning, help students, discern(분별하다) misinformation and it gives them access to a wide variety of resources, among other things.(University of San Diego)\n",
    "\n",
    "정보가 넘처나는 현대 사회에서 개개인이 얼머나 유익한 정보를 충분히 활용하는지는 이제 인공지능 시대에 접하면서 선택이 아닌 필수 역량이 되어가고 있다.\n",
    "\n",
    "생각해보라, 내가 지금 Chat-gpt를 이용하여 문제를 해결하는 행위 역시 Digital Literacy의 요소를 잘 보여주고 있지 않은가?"
   ]
  },
  {
   "cell_type": "markdown",
   "id": "b2ddca3a-d0f1-4d38-98b0-ca7e58a5263a",
   "metadata": {},
   "source": [
    "# 4. Difference between AI, ML and DL"
   ]
  },
  {
   "cell_type": "markdown",
   "id": "03402fae-a1ca-4d00-a7ec-b880b13b11d5",
   "metadata": {},
   "source": [
    "공통적인 측면에서 인간이 그동안 담당해왔던 반복적인 작업을 기계 및 컴퓨터가 대체하는것은 물론이고, 더 나아가서 컴퓨터라는 기기를 활용하여 수준 높은 고차원적인 문제를 해결하려는 공통적인 특징이 있다.\n",
    "\n",
    "AI는 결국 인간의 신경 및 사고하는 과정 그 자체를 이제 컴퓨터, 수학, 과학적인 방법을 이용하여 만들어 낸 하나의 또다른 지능 개체이다\n",
    "\n",
    "물론 교과서적 정석인 ML과 DL의 차이가 어딘가에는 쓰여져 있겠지만, 아무리 읽어봐도 별로 감흥, 감동, 잔잔한 의미를 부여하지 못하는 것 같아서 내가 느끼는 그 차이점을 적고자 한다.\n",
    "\n",
    "ML = AI를 컴퓨터(수학) 그 본질에 충실하게 쓰는 역할이라고 본다. 본인이 느끼기에는 깊이는 얕을 수 있어도 그 활용범위는 굉장히 방대하다. 애초에 컴퓨터를 수학적 계산하는 장치로 발명하지 않았는가? 물론 본질은 인간의 사고 과정을 모방하는 것은 다르지 않다\n",
    "\n",
    "DL = AI를 인간의 사고방식을 모방하려는 역할이 강하다(그것도 더 깊게, Neural Network를 만들려고 하는것). 인간의 초점에 맞춰저 있어서 범위가 좁을 수 있어도 그 분야의 깊이는 남다르다. 인공 신경망을 모방하려는 그 대표적인 예라고 할 수 있겠다."
   ]
  },
  {
   "cell_type": "markdown",
   "id": "fa195ab1-daf9-41c6-8e9c-f33b9b7ccfe9",
   "metadata": {},
   "source": [
    "# 5. ML Type (지도 / 비지도 / 강화)"
   ]
  },
  {
   "cell_type": "markdown",
   "id": "6b618cab-fefb-4fe6-ab0d-c7399f044a5a",
   "metadata": {},
   "source": [
    "Machine Learning은 크게 3가지 타입으로 나뉜다.\n",
    "* https://rubber-tree.tistory.com/129\n",
    "(Supervised / Unsupervised / Reinforcement(이건 몰랐다))\n",
    "\n",
    "* Supervised\n",
    "  훈련값과 정답값이 모두 주어지며 보통 회귀 문제나 분류 문제에 대표적으로 이용된다. 이 부분은 컴퓨터공학의 느낌 보다는 수학적인 느낌이 가깝다. 왜냐하면 결국 오차를 최소화하는 방향으로 알고리즘이 흘러가니까...\n",
    "\n",
    "* Unsupervised\n",
    "  정답은 없다. 다만 수학적인 방법을 통하여 가장 어떻게 하면 공통된 특징을 잘 추출해낼 수 있을까 하는 그 생각에서부터 시작되었다. 빅데이터 공모전 하다가 처음 알게 되었는데 사람이 거시적으로 구별해내거나 다량의 자료로부터 무언가 공통적인 요소들로 하나씩 묶어내는 그 자체가 굉장히 신기했었다\n",
    "\n",
    "* Reinforcement\n",
    "  잘하면 상점을 주고, 못하면 벌점을 준다. 이것을 토대로 모델이 가장 상점을 많이 받을 수 있는 방향으로 움직이게 하는 알고리즘이다. 자동제어 폐루프 시스템과 비슷해 보이는데 결정적인 목표가 다르다고 볼 수 있다\n",
    "  강화 학습은 최대의 이익을 달성하기 위한 알고리즘으로 움직인다.\n",
    "  제어공학은 설정된 목표에 다다르기 위한 수학적 모델링을 제공한다."
   ]
  },
  {
   "cell_type": "markdown",
   "id": "6a3cc059-53b6-497d-9d20-835b9082ce54",
   "metadata": {},
   "source": [
    "# 6. Digital Twin"
   ]
  },
  {
   "cell_type": "markdown",
   "id": "1f5f7cb4-67f3-41ba-b984-3b6aa93026ea",
   "metadata": {},
   "source": [
    "현실 세계의 모든 것들을 실시간으로 정보를 받아들여 그것을 가상의 환경에 동일하게 구현하는 기술을 말한다. 실제 환경속에서 구현하거나 실험하기 어려운 것들을 Digital Twin기술을 적용하여 효율적인 자원과 시간 환경(통제된 환경)속에서 최적의 결과를 관찰하고, 그에 맞는 해결책을 찾을 수 있을 것이다. 안전이 최중요한 요소가 되는 산업 현장을 가상 환경속에서 구현할 수만 있다면 이것은 안전 입장에서 가장 최고의 효과적은 대책이 될 수 있다."
   ]
  },
  {
   "cell_type": "markdown",
   "id": "144300dd-6853-405e-8c38-fc27016aa0b9",
   "metadata": {},
   "source": [
    "# 7. Computer Vision"
   ]
  },
  {
   "cell_type": "markdown",
   "id": "7867d02c-3478-4733-9547-ac97fcafe09d",
   "metadata": {},
   "source": [
    "컴퓨터가 처리할 수 있는 다양한 문제 중에서 인간으로 치면 '시각'의 영역에 조금 더 집중한 분야라고 할 수가 있겠다. 이미지 처리나 각종 시각 자료, 동영상 데이터 분석을 할 수 있으며, AI의 관점에서 보았을 때에는 결국 우리가 원하는 방향으로 물체를 해석하거나 물체를 구별하는 분야이다. 최근 자율주행 시스템이 매우 큰 인기를 얻으면서 Computer Vision의 발전 속도 역시 이에 힘입어 가속하고 있다."
   ]
  },
  {
   "cell_type": "markdown",
   "id": "4beb7d18-45a1-48c3-84b5-94730126ab6d",
   "metadata": {},
   "source": [
    "# 8. Object Detection"
   ]
  },
  {
   "cell_type": "markdown",
   "id": "1e84442a-05c1-4044-ab49-dd1ef675a69c",
   "metadata": {},
   "source": [
    "용어 그대로 '물체 탐지'이다. 당연히 CV와 관련이 있으며 컴퓨터 분석을 통하여 특정 이미지나 영상, 카메라 등에서 다른것과는 구별되는 물체를 감지하고 이에 대해서 적절하게 처리하는 것을 말한다. 예를 들어서 보안 카메라의 경우 특정 시간대에 침입자에 대한 구별을 하는 이러한 모든 것들이 Object Detection의 일종이라고 볼 수 있다."
   ]
  },
  {
   "cell_type": "markdown",
   "id": "06514fc9-9fea-4f0f-97ab-6375a1889814",
   "metadata": {},
   "source": [
    "# 9. Unix와 Linux의 차이점"
   ]
  },
  {
   "cell_type": "markdown",
   "id": "254ac500-715f-4db2-bbda-dd8bc435e6f9",
   "metadata": {},
   "source": [
    "공통적으로 OS라는 것이다. Unix는 독점적인 운영 체제라고 볼 수 있다. 사용자가 입맛대로 OS를 수정할 수 없다. 그러나 Linux는 오픈 소스라는 차이점이 있고, 누구나 OS를 만들고 배포하고, 누구나 다른 OS를 가져와서 사용할 수 있다는 차이점이 있다. 일반적으로 Unix는 대규모 또는 기업에서 사용하고 있고, Linux는 소규모나 개개인의 용도에 적합하게 사용할 수 있다"
   ]
  },
  {
   "cell_type": "markdown",
   "id": "3e94b652-e57e-4ed2-a5ce-566eb6f6ca2c",
   "metadata": {},
   "source": [
    "# 10. Git와 GitHub의 차이점"
   ]
  },
  {
   "cell_type": "markdown",
   "id": "31caf4a2-68ee-4c40-95ba-afdb7ca8e850",
   "metadata": {},
   "source": [
    "Git은 버전 관리 시스템으로 볼 수 있고, Github는 이 Git 저장소에서 여러가지 프로젝트를 할 수 있는 환경을 지원한다. 더 쉽게 본다면 Git는 저장소라고 볼 수 있고, Github는 이 저장소를 사용할 수 있는 웹 호스팅 서비스라고 볼 수 있다."
   ]
  },
  {
   "cell_type": "markdown",
   "id": "28ca8a43-3a63-432b-bcef-0d606001c067",
   "metadata": {},
   "source": [
    "# 11. Dynamic Typing"
   ]
  },
  {
   "cell_type": "markdown",
   "id": "fb34dc52-9588-4f35-b577-9e6d11a15349",
   "metadata": {},
   "source": [
    "변수가 어떤 타입을 가져야 하는지 제한되어 있지 않다. int, float, char, str를 쓰지 않고 변수를 선언할 수 있는 타이핑 기법, 변수가 어떤 값을 담아내고 있던 기존의 타이핑과는 다르게, 변수가 어딘가에 있는 그 값의 위치를 가리키고 있다."
   ]
  },
  {
   "cell_type": "markdown",
   "id": "d34fb9c0-1d5f-4f16-b073-fd33d375e526",
   "metadata": {},
   "source": [
    "# 12. 모듈화"
   ]
  },
  {
   "cell_type": "markdown",
   "id": "d02df060-a1a7-4057-8f4a-069f598693d1",
   "metadata": {},
   "source": [
    "일련의 비슷한 성격을 가지고 있는 기능들을 하나로 묶어 놓은 것이다. 예를 들어, 수학적인 해결을 위해 만들어진 일종의 기능들을 모아서 Numpy로 모듈화, 데이터를 처리하는 기능들을 모아서 Pandas로 모듈화, 시각적으로 보여주는 기능에 특화된 matplotlib, seaborn등으로 모듈화가 있겠다. 물론 내 입맛대로 골라서 아무거나 모듈화 시킬 수 있겠지만 쓸모가 없을 것이다"
   ]
  },
  {
   "cell_type": "markdown",
   "id": "e6033d4b-9770-43aa-b242-076083e60070",
   "metadata": {},
   "source": [
    "# 13. 변수란 무엇인가?"
   ]
  },
  {
   "cell_type": "markdown",
   "id": "b8e6d649-b3bf-4c94-835d-5b102cb5e0d1",
   "metadata": {},
   "source": [
    "어떤 값을 담아둘 수 있는 공간이다. 이 값에는 무엇이든지 담길 수 있다(동적타이핑이라는 환경 속에서). 그리고 이 값은 변할 수 있다."
   ]
  },
  {
   "cell_type": "markdown",
   "id": "a380dbb3-6fda-4401-a05b-7b7ebf1ae38f",
   "metadata": {},
   "source": [
    "# 14. List, Tuple, Dict, Set"
   ]
  },
  {
   "cell_type": "markdown",
   "id": "8e8b86c6-5ac7-47f7-bf01-869210a589f1",
   "metadata": {},
   "source": [
    "List : []\n",
    "대괄호를 이용하여 생성하는데, 여러 가지 자료구조를 가진 데이터를 하나로 묶어서 저장할 수 있는 기능을 제공한다. 리스트는 대표적인 mutable 자료구조이다\n",
    "\n",
    "Tuple : ()\n",
    "소괄호를 이용하여 생성되는데, 내부에 들어간 값은 절대로 바뀔 수 없다는 특징이 있다. 당연히 변할 수 없으니 immutable이겠다\n",
    "\n",
    "Dict : {key: value}\n",
    "key를 이용하여 요소에 접근하고 value에 값을 저장하는 재미있는 자료 구조이다. 값을 추가하고 제거할 수 있는 mutable형식이라고 볼 수 있겠다\n",
    "\n",
    "Set : {}\n",
    "Dict와 비슷해 보이는데 수학적인 '집합'의 성격이 깊다. 추가적으로 '중복'값이 있으면 다 제거되고 대표적인 하나만 남는다.\n",
    "\n",
    "Python의 Mutable : List, Dict, Set\n",
    "Python의 Immutable : constant, string, Tuple"
   ]
  },
  {
   "cell_type": "markdown",
   "id": "f68e6d7d-a68b-4dfa-a10d-42a72ccc364a",
   "metadata": {},
   "source": [
    "# 15. Mutable, Immutable"
   ]
  },
  {
   "cell_type": "markdown",
   "id": "379da6c1-1077-4085-86b0-a27c21e3b33b",
   "metadata": {},
   "source": [
    "위에서 실컷 설명하였다"
   ]
  },
  {
   "cell_type": "markdown",
   "id": "b24d2a4b-e1fb-4c6d-bed6-9c693b8fbc32",
   "metadata": {},
   "source": [
    "# 16. Shallow / Deep Copy"
   ]
  },
  {
   "cell_type": "markdown",
   "id": "eaa8e955-cf89-4581-b215-5150fd43d06a",
   "metadata": {},
   "source": [
    "Shallow Copy : immutable형식의 구조를 가진 데이터를 복사하려고 할 때 발생하는 현상이다. 함수 내부에서 값을 바꾸고 return하지 않고 함수를 종료시킨다면 원본의 데이터는 값이 바뀌지 않기 때문에 이에 유의해야 한다.\n",
    "import copy하여 copy.deepcopy()하면 immutable형식의 자료라 할지라도 deep copy할 수 있다."
   ]
  },
  {
   "cell_type": "markdown",
   "id": "15fb7737-6d16-45ef-8482-19b721813c7e",
   "metadata": {},
   "source": [
    "# 17. 함수란 뭐임?"
   ]
  },
  {
   "cell_type": "markdown",
   "id": "03c5b9f9-c59d-42c4-8b08-eef700c540f6",
   "metadata": {},
   "source": [
    "비슷한 기능을 하는 동작을 하나로 묶어낸다. 이렇게 하면 필요할 때마다 코드를 일일이 작성하지 않고 함수만 호출하면 된다. 코드도 간결하고 읽기도 매우 쉬우니 일석이조이다"
   ]
  },
  {
   "cell_type": "markdown",
   "id": "21b6832b-5c43-4774-be5e-810c1bdf40ec",
   "metadata": {},
   "source": [
    "# 18. 함수 호출 방법"
   ]
  },
  {
   "cell_type": "markdown",
   "id": "dd74475e-0fb8-48b2-892d-3a1fb2f12c98",
   "metadata": {},
   "source": [
    "주의할 점은 매개변수로 어떤 동작을 처리하고 있었는데 매개변수의 이름과 같은 변수를 선언하고 새로운 값을 할당하게 되면 그냥 아예 새로운 객체를 가리키게 된다. 이 상태에서 매개변수에 무언가의 동작을 실행하면 매개변수가 동작하는게 아니라 새로운 객체 그 자체가 변하게 되므로 주의해서 사용하시오"
   ]
  },
  {
   "cell_type": "markdown",
   "id": "a254cbf0-0afc-4f8d-abe2-d30c64660007",
   "metadata": {},
   "source": [
    "# 19. 지역변수 전역변수"
   ]
  },
  {
   "cell_type": "markdown",
   "id": "1fa2c797-200b-4031-9b6b-872a931c574d",
   "metadata": {},
   "source": [
    "지역 변수는 함수 안에서 선언된 변수를 말한다. 반대로 전역변수는 함수 외부에서 선언된 변수를 말한다. 함수 안에서 선언된 변수는 함수의 동작이 종료하게 되면 그 기능을 잃는다. 물론 함수 내부에서 global 키워드를 선언하면 함수 외부에서도 사용할 수 있는 전역변수가 된다. 그런데 이렇게 복잡하게 코드를 짤 꺼면 그냥 global 쓰지 마라"
   ]
  },
  {
   "cell_type": "markdown",
   "id": "0e0d74f7-fb01-4135-8991-98239fb16ae9",
   "metadata": {},
   "source": [
    "# 20. 연산자(Operator)"
   ]
  },
  {
   "cell_type": "markdown",
   "id": "12c77f70-1fc2-4c44-80a0-f6cfc21ed51e",
   "metadata": {},
   "source": [
    "+, -, *, /와 같이 이미 정해진 동작을 수행하는 동작을 말한다. 추가적인 설명은 다음에 하겠다"
   ]
  },
  {
   "cell_type": "markdown",
   "id": "12a58a66-2a77-4443-8aa0-f8428cf39dce",
   "metadata": {},
   "source": [
    "# 21. 산술연산자, 관계연산자, 논리연산자"
   ]
  },
  {
   "cell_type": "markdown",
   "id": "b930c4d8-eb50-4b2b-ae15-1db318d4cf4b",
   "metadata": {},
   "source": [
    "산술연산자 : 언어에서 느껴지듯이 수학적인 연산을 하기 위해 사용되는 연산자를 말한다. +, -, *, / 등등 기타 다양한 산술연산자를 파이썬에서는 제공하고 있다\n",
    "\n",
    "관계연산자 : 연산자 양 옆의 값을 비교하여 그에 대한 결과를 내놓는다. 재미있는 사실은 파이썬에서는 0과 0.0을 False로 처리한다는 것을 알아두자\n",
    "\n",
    "논리연산자 : and, or, not을 이용하는 연산자이다."
   ]
  },
  {
   "cell_type": "markdown",
   "id": "aa42ad83-d5da-4126-9b8b-ca4e3a095dd4",
   "metadata": {},
   "source": [
    "# 22. 제어문"
   ]
  },
  {
   "cell_type": "markdown",
   "id": "20fb71f0-1240-4984-aea3-235ef588ea44",
   "metadata": {},
   "source": [
    "조건문 : if, elif, else : 특정 조건에 맞는 상황일 때에만 그 행동을 수행하도록 짜여진다\n",
    "\n",
    "반복문 : for, while : 특정한 범위 내부에 있는 코드를 반복하여 수행하고 싶을 때 반복문을 이용하게 된다. 중요한 것은 반드시 프로그램은 종료되어야 하므로 반복문을 빠져나갈 수 있는 상황을 반드시 제시하셔야 한다\n",
    "\n",
    "분기문 : continue, break : 어떤 상황에 닥쳤을 때에는 코드를 실행하지 않거나, 중단시킬 수 있는 환경을 제공한다"
   ]
  },
  {
   "cell_type": "markdown",
   "id": "7e12ac40-2680-4e3f-b8c2-fe6a10f52c11",
   "metadata": {},
   "source": [
    "# 23. 스택과 큐의 차이점"
   ]
  },
  {
   "cell_type": "markdown",
   "id": "271bf875-c7f8-4caa-adcd-ffa76810d75a",
   "metadata": {},
   "source": [
    "스택 : 후입 선출\n",
    "큐 : 선입 선출"
   ]
  },
  {
   "cell_type": "markdown",
   "id": "40f09df8-89a9-4e5e-8c2e-64860a18df10",
   "metadata": {},
   "source": [
    "# 24. OOP란 무엇인가"
   ]
  },
  {
   "cell_type": "markdown",
   "id": "49aee4e2-eda4-40b2-888b-b09d4c0506a6",
   "metadata": {},
   "source": [
    "객체지향프로그래밍, 선언하는 모든 것들을 하나의 '객체'로 두고 이 객체에 기능과 속성을 부여하는 새로운 프로그래밍 패러다임이다. 이제는 프로그래밍도 사람의 시각과 관점에서 하는 기법으로 변하고 있다."
   ]
  },
  {
   "cell_type": "markdown",
   "id": "6cbe5f4a-2d04-46a2-bb94-61119c4da281",
   "metadata": {},
   "source": [
    "# 25. ADT란 무엇인가"
   ]
  },
  {
   "cell_type": "markdown",
   "id": "1aa4fc3c-2abd-437f-8e39-949374877c09",
   "metadata": {},
   "source": [
    "객체가 가지고 있는 정보는 철저하게 숨기면서, 이 객체 접근하기 위해서는 메서드를 이용하여 접근할 수 있게 해주는 기법을 말한다. 추상 데이터 타입이라고도 하며 이것은 객체지향 언어의 3요소인 은닉성, 상속성, 다형성을 실현가능하게해준다"
   ]
  },
  {
   "cell_type": "markdown",
   "id": "dc1baa1c-70da-4583-a586-1ea9424a3450",
   "metadata": {},
   "source": [
    "# 26. 은닉성(캡슐화), 상속성, 다형성"
   ]
  },
  {
   "cell_type": "markdown",
   "id": "e0c60747-aae6-44ce-9dd3-594807f1f404",
   "metadata": {},
   "source": [
    "은닉성 : 외부로부터 그 내부를 공개하지 않고, 그 내부에 접근할 수 있는 방법을 알 수 있다면 접근할 수 있다. 이렇게 하면 외부에서 데이터에 접근할 수 있는 방법을 제공하면서, 그 내부의 데이터가 외부의 간섭에 의한 손상을 방지할 수 있다\n",
    "\n",
    "상속성 : class는 부모-자식 관계의 족보 형태를 제공한다. 하위 class는 상위 class를 모방하여 추가된 기능을 더욱 다채롭게 구성할 수 있다.\n",
    "\n",
    "다형성 : 상속에서 비롯되는 것으로 하나의 부모 클래스의 정확한 틀을 잘 잡고 있으면 그로부터 무한한 창의력고 창조력을 바탕으로 마음껏 다양한 하위 클래스를 만들어 낼 수 있다."
   ]
  },
  {
   "cell_type": "markdown",
   "id": "1e2a1ef8-de4c-4e59-9f30-3691f9d6a759",
   "metadata": {},
   "source": [
    "# 27. 인스턴스 변수 및 클래스 변수"
   ]
  },
  {
   "cell_type": "markdown",
   "id": "7254aef9-8d45-4e82-9909-d7bf56e3a9e0",
   "metadata": {},
   "source": [
    "객체를 생성할 때 객체 각각의 고유한 변수를 주면 인스턴스 변수라고 하고 객체가 속한 클래스 모두가 공유하는 변수를 가지면 클래스 변수라고 한다.\n",
    "\n",
    "예를 들어서 캐릭터를 생성하는데 다음의 두가지 정보가 필요하다고 해보자\n",
    "1. 지금 맵 화면에 몇명의 캐릭터가 생성되었는지\n",
    "2. 각각 캐릭터의 이름과 직업을 부여해야 하는 경우\n",
    "\n",
    "1의 경우에는 클래스 변수를 생성하여 객체가 생성될 때마다 +1을 해주고\n",
    "2의 경우에는 인스턴스 변수로 처리하여 각각의 고유한 특성을 부여해주자"
   ]
  },
  {
   "cell_type": "markdown",
   "id": "4c513283-b284-4979-ba22-80a4f8d30f4a",
   "metadata": {},
   "source": [
    "# 28. Method Overroading"
   ]
  },
  {
   "cell_type": "markdown",
   "id": "4446f370-4ec2-4763-8d1d-513cf1ae21b9",
   "metadata": {},
   "source": [
    "상속을 이용할 경우에 상위 클래스에서 가져온 매소의 내용을 하위 클래스에서 재정의할 필요가 있을 경우에 하는 행위를 말한다\n",
    "상위 클래스의 내용에 이어서 추가적으로 내용을 작성하고 싶으면 '`super().__init__()`을 작성하여주자"
   ]
  },
  {
   "cell_type": "markdown",
   "id": "932982d2-0ca6-4bf8-b844-b9f1e26b240b",
   "metadata": {
    "jp-MarkdownHeadingCollapsed": true
   },
   "source": [
    "# 29. Operator Overroading"
   ]
  },
  {
   "cell_type": "markdown",
   "id": "58955a3e-374c-401d-aa2f-a31125fa438b",
   "metadata": {},
   "source": [
    "사용자가 만든 클래스로 생성된 객체에 오퍼레이터를 적용하고 싶을 때 사용하는 기법이다"
   ]
  },
  {
   "cell_type": "markdown",
   "id": "035950a5-4ae4-49bb-b65a-baa361fd02dc",
   "metadata": {},
   "source": []
  },
  {
   "cell_type": "markdown",
   "id": "e8af4ed0-568f-4092-af89-ca13da85c41c",
   "metadata": {},
   "source": []
  },
  {
   "cell_type": "markdown",
   "id": "8747b19a-dce3-459c-94e1-09a82c737538",
   "metadata": {},
   "source": []
  },
  {
   "cell_type": "markdown",
   "id": "32a9e6ad-dc64-4efd-9f05-5bbbaff230ee",
   "metadata": {},
   "source": []
  },
  {
   "cell_type": "markdown",
   "id": "7caece73-f23f-48aa-9079-52a2d4d6d03b",
   "metadata": {},
   "source": []
  }
 ],
 "metadata": {
  "kernelspec": {
   "display_name": "Python [conda env:base] *",
   "language": "python",
   "name": "conda-base-py"
  },
  "language_info": {
   "codemirror_mode": {
    "name": "ipython",
    "version": 3
   },
   "file_extension": ".py",
   "mimetype": "text/x-python",
   "name": "python",
   "nbconvert_exporter": "python",
   "pygments_lexer": "ipython3",
   "version": "3.10.14"
  }
 },
 "nbformat": 4,
 "nbformat_minor": 5
}
