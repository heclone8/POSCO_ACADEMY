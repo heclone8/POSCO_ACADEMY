{
 "cells": [
  {
   "cell_type": "markdown",
   "id": "c38e80f1-3aea-4ea0-b4b1-36727038995a",
   "metadata": {},
   "source": [
    "### 문 1. 2개의 행사에 각각 참가한 명단이 주어질 때, 두 행사 모두 참가한 학생과 오직 한 행사에만 참가한 학생들의 명단을 구하여 반환하는 함수를 작성하시오.\n",
    "\n",
    "A = {'Alice', 'Bob', 'Charlie', 'David'}<br>\n",
    "B = {'Alice', 'Ella', 'Frank', 'Bob'}<br>\n",
    "C = {'George', 'Ella'}<br>\n",
    "both1, one1 = find_participants(A, B)<br>\n",
    "both2, one2 = find_participants(A, C)<br>\n",
    "print(both1, one1) # {'Alice', 'Bob'} {'Ella', 'David', 'Frank', 'Charlie'}<br>\n",
    "print(both2, one2) # set() {'David', 'Bob', 'Charlie', 'George', 'Alice', 'Ella'}<br>"
   ]
  },
  {
   "cell_type": "code",
   "execution_count": 4,
   "id": "66ff12b1-b1cf-4897-a09e-cd5266ed108d",
   "metadata": {},
   "outputs": [
    {
     "name": "stdout",
     "output_type": "stream",
     "text": [
      "{'Alice', 'Bob'} {'David', 'Ella', 'Frank', 'Charlie'}\n",
      "set() {'David', 'George', 'Ella', 'Bob', 'Charlie', 'Alice'}\n"
     ]
    }
   ],
   "source": [
    "def find_participants(p1, p2):\n",
    "    r1 = p1.intersection(p2)\n",
    "    r2 = p1.union(p2) - p1.intersection(p2)\n",
    "    return r1, r2\n",
    "    \n",
    "A = {'Alice', 'Bob', 'Charlie', 'David'}\n",
    "B = {'Alice', 'Ella', 'Frank', 'Bob'}\n",
    "C = {'George', 'Ella'}\n",
    "\n",
    "both1, one1 = find_participants(A, B)\n",
    "both2, one2 = find_participants(A, C)\n",
    "\n",
    "print(both1, one1)\n",
    "print(both2, one2)"
   ]
  },
  {
   "cell_type": "markdown",
   "id": "d147fe47-5809-4fb1-b59b-ff2268bbe6ec",
   "metadata": {},
   "source": [
    "### 문 2. for 문을 사용하여 아래 딕셔너리 d의 모든 value를 출력하시오.\n",
    "d = {'kim': 3, 'park': 2, 'youn': 1}"
   ]
  },
  {
   "cell_type": "code",
   "execution_count": 10,
   "id": "0d28f6ce-f2cf-426f-ae90-bb51dca423b9",
   "metadata": {},
   "outputs": [
    {
     "name": "stdout",
     "output_type": "stream",
     "text": [
      "3 2 1 "
     ]
    }
   ],
   "source": [
    "d = {'kim': 3, 'park': 2, 'youn': 1}\n",
    "for i in d.values():\n",
    "    print(i, end=' ')"
   ]
  },
  {
   "cell_type": "markdown",
   "id": "08766f4e-00b3-4c21-86a4-bd59ff5d09df",
   "metadata": {},
   "source": [
    "### 문 3. 어떤 문장을 입력 받으면 해당 문장에서 각 문자가 몇 개씩 나오는지 저장하는 딕셔너리를 만든 후, 아래와 같이 출력하시오.\n",
    "\n",
    "Enter a sentence: Python is fun!<br>\n",
    "{'P': 1, 'y': 1, 't': 1, 'h': 1, 'o': 1, 'n': 2, ' ': 2, 'i': 1, 's': 1,\n",
    "'f': 1, 'u': 1, '!': 1}"
   ]
  },
  {
   "cell_type": "code",
   "execution_count": 23,
   "id": "9be7fed4-4829-4b91-ade4-d7ac84b381d6",
   "metadata": {},
   "outputs": [
    {
     "name": "stdin",
     "output_type": "stream",
     "text": [
      "Enter a sentence:  Python is fun!\n"
     ]
    },
    {
     "name": "stdout",
     "output_type": "stream",
     "text": [
      "{'y': 1, 'u': 1, 'n': 2, '!': 1, 'f': 1, 't': 1, 's': 1, 'i': 1, ' ': 2, 'o': 1, 'h': 1, 'P': 1}\n"
     ]
    }
   ],
   "source": [
    "sentence = input(\"Enter a sentence: \")\n",
    "words = set(sentence)\n",
    "d = {}\n",
    "\n",
    "for i in words:\n",
    "    c = sentence.count(i)\n",
    "    d[i] = c\n",
    "\n",
    "print(d)"
   ]
  },
  {
   "cell_type": "markdown",
   "id": "427fdb2d-7ced-4065-9d83-44c6d7d352e7",
   "metadata": {},
   "source": [
    "### 문 4. len()을 직접 구현하기\n",
    "\n",
    "a = [5,5,6,7,8,3]<br>\n",
    "b = 'Life is short.'<br>\n",
    "print(len(a), len(b)) # 내장 함수 len()<br>\n",
    "print(my_len(a), my_len(b)) # my_len()"
   ]
  },
  {
   "cell_type": "code",
   "execution_count": 24,
   "id": "20912e0f-b9d3-4b66-af21-8afd7fe847dd",
   "metadata": {},
   "outputs": [
    {
     "name": "stdout",
     "output_type": "stream",
     "text": [
      "6 14\n",
      "6 14\n"
     ]
    }
   ],
   "source": [
    "def my_len(x):\n",
    "    length = 0\n",
    "    for i in x:\n",
    "        length += 1\n",
    "    return length\n",
    "\n",
    "a = [5,5,6,7,8,3]\n",
    "b = 'Life is short.'\n",
    "print(len(a), len(b)) # 내장 함수 len()\n",
    "print(my_len(a), my_len(b)) # my_len()"
   ]
  },
  {
   "cell_type": "markdown",
   "id": "b22d19fe-1de1-4c36-80e1-00f0f03ad464",
   "metadata": {},
   "source": [
    "### 문 5. 양의 정수 a와 b를 전달받아 a부터 b까지 곱해서 반환하는 mult함수를 작성하시오\n",
    "\n",
    "mult(1, 3)<br>\n",
    "6<br>\n",
    "mult(2, 5)<br>\n",
    "120"
   ]
  },
  {
   "cell_type": "code",
   "execution_count": 31,
   "id": "c8fb552e-6960-4fee-a311-1f894b69b5a9",
   "metadata": {},
   "outputs": [
    {
     "name": "stdout",
     "output_type": "stream",
     "text": [
      "6\n",
      "120\n"
     ]
    }
   ],
   "source": [
    "def mult(a, b):\n",
    "    c = 1\n",
    "    for i in range(a, b + 1):\n",
    "        c *= i\n",
    "    return c\n",
    "\n",
    "print(mult(1, 3))\n",
    "print(mult(2, 5))"
   ]
  },
  {
   "cell_type": "markdown",
   "id": "0dbdd70e-52b4-4fa3-837b-c59e9b2cb017",
   "metadata": {},
   "source": [
    "### 문 6. 숫자로 구성된 리스트를 전달받아, 리스트에서 양수 값을 더한 결과와 음수 값을 더한 결과를 반환하는 함수를 작성하시오\n",
    "\n",
    "possum, negsum = sum_pos_neg([3,4,-6,-3])<br>\n",
    "print(possum,negsum) # 7 -9<br>\n",
    "mylist = [0,0,0,0,0,0,0,0,0,1,-1]<br>\n",
    "possum2, negsum2 = sum_pos_neg(mylist)<br>\n",
    "print(possum2,negsum2) # 1 -1"
   ]
  },
  {
   "cell_type": "code",
   "execution_count": 35,
   "id": "4b9cb645-c7c3-4df1-b265-e6e06c8b1d50",
   "metadata": {},
   "outputs": [
    {
     "name": "stdout",
     "output_type": "stream",
     "text": [
      "7 -9\n",
      "1 -1\n"
     ]
    }
   ],
   "source": [
    "def sum_pos_neg(l):\n",
    "    p_val = 0\n",
    "    n_val = 0\n",
    "    \n",
    "    for i in l:\n",
    "        if i >= 0:\n",
    "            p_val += i\n",
    "        elif i <= 0:\n",
    "            n_val += i\n",
    "        else:\n",
    "            continue\n",
    "\n",
    "    return p_val, n_val\n",
    "\n",
    "possum, negsum = sum_pos_neg([3,4,-6,-3])\n",
    "print(possum,negsum)\n",
    "\n",
    "mylist = [0,0,0,0,0,0,0,0,0,1,-1]\n",
    "possum2, negsum2 = sum_pos_neg(mylist)\n",
    "print(possum2,negsum2)"
   ]
  },
  {
   "cell_type": "markdown",
   "id": "756007b4-1e24-4dac-82e8-a1a38294f9b3",
   "metadata": {},
   "source": [
    "### 문 7. 1개 이상의 2차원 벡터들을 전달받아 벡터들의 합을 구하여 반환하는 함수를 작성하시오\n",
    "\n",
    "def vector_sum(vector, *vectors):<br>\n",
    "    pass<br>\n",
    "v1=[0, 1]  \n",
    "v2=[0.5, 0.5]  \n",
    "v3=[1, 0]  \n",
    "v4=[6, 4]  \n",
    "v5=[3.13, 2.72]  \n",
    "m1 = vector_sum(v1, v2, v3)  \n",
    "m2 = vector_sum(v1, v2, v3, v4)  \n",
    "m3 = vector_sum(v3, v5)  \n",
    "print(m1,m2,m3)"
   ]
  },
  {
   "cell_type": "code",
   "execution_count": 37,
   "id": "1263522d-41ab-4cad-8163-028353d0d13a",
   "metadata": {},
   "outputs": [
    {
     "name": "stdout",
     "output_type": "stream",
     "text": [
      "[1.5, 1.5] [7.5, 5.5] [4.13, 2.72]\n"
     ]
    }
   ],
   "source": [
    "def vector_sum(vector, *vectors):\n",
    "    result = [vector[0], vector[1]]\n",
    "    for v in vectors:\n",
    "        result[0] += v[0]\n",
    "        result[1] += v[1]\n",
    "    return result\n",
    "    \n",
    "v1=[0, 1]\n",
    "v2=[0.5, 0.5]\n",
    "v3=[1, 0]\n",
    "v4=[6, 4]\n",
    "v5=[3.13, 2.72]\n",
    "m1 = vector_sum(v1, v2, v3)\n",
    "m2 = vector_sum(v1, v2, v3, v4)\n",
    "m3 = vector_sum(v3, v5)\n",
    "print(m1,m2,m3)"
   ]
  },
  {
   "cell_type": "markdown",
   "id": "a7f92d2f-0b7d-4fab-b1f6-279b01858622",
   "metadata": {},
   "source": [
    "### 문 8. 숫자로 구성된 리스트 2개를 받아서 이 두 리스트를 합친 후에 정렬한 새로운 리스트를 반환하는 함수를 작성하시오. 단, 매개변수의 값이 주어지지 않으면, [0]이 기본적으로 주어진다.\n",
    "\n",
    "def merge_list(??):  \n",
    "    pass  \n",
    "l = [3, 5, 9, 1, 2]  \n",
    "ml1 = merge_list(l,[2,1])  \n",
    "ml2 = merge_list([6,9,4])  \n",
    "ml3 = merge_list()  \n",
    "print(ml1) # [1, 1, 2, 2, 3, 5, 9]  \n",
    "print(ml2) # [0, 4, 6, 9]  \n",
    "print(ml3) # [0, 0]  "
   ]
  },
  {
   "cell_type": "code",
   "execution_count": 40,
   "id": "9b56aed5-01a3-48ce-989f-487be9410d10",
   "metadata": {},
   "outputs": [
    {
     "name": "stdout",
     "output_type": "stream",
     "text": [
      "[3, 5, 9, 1, 2, 2, 1]\n",
      "[6, 9, 4, 0]\n",
      "[0, 0]\n"
     ]
    }
   ],
   "source": [
    "def merge_list(l1=[0], l2=[0]):\n",
    "    return l1 + l2\n",
    "    \n",
    "l = [3, 5, 9, 1, 2]\n",
    "ml1 = merge_list(l,[2,1])\n",
    "ml2 = merge_list([6,9,4])\n",
    "ml3 = merge_list()\n",
    "\n",
    "print(ml1) # [1, 1, 2, 2, 3, 5, 9]\n",
    "print(ml2) # [0, 4, 6, 9]\n",
    "print(ml3) # [0, 0]"
   ]
  },
  {
   "cell_type": "markdown",
   "id": "ea202d56-c164-4380-b853-7aa8a297a843",
   "metadata": {},
   "source": [
    "### 문 9. 점심 메뉴 리스트에서 임의로 하나의 메뉴를 골라 정해주는 프로그램을 완성하시오\n"
   ]
  },
  {
   "cell_type": "code",
   "execution_count": 85,
   "id": "1b0fa62c-deee-47c2-89d3-663f30193624",
   "metadata": {},
   "outputs": [
    {
     "name": "stdout",
     "output_type": "stream",
     "text": [
      "오늘 점심은 부대찌개입니다.\n"
     ]
    }
   ],
   "source": [
    "import random\n",
    "\n",
    "menu = [\"된장찌개\", \"부대찌개\", \"김치찌개\", \"삼계탕\", \"파스타\", \"돈까스\", \"쌀국수\"]\n",
    "\n",
    "print(\"오늘 점심은 \" + random.choice(menu) + \"입니다.\")"
   ]
  },
  {
   "cell_type": "markdown",
   "id": "3519251d-c1e4-44bd-8965-041f09b6afe2",
   "metadata": {},
   "source": [
    "### 문 10. 다음의 조건을 만족하는 로또 추첨 프로그램을 작성하고자 한다. 조건은 다음과 같다\n",
    "1. 5개의 로또 번호 조합을 출력해주는 프로그램을 작성해야 한다.\n",
    "2. 1~45 숫자 중 6개를 임의로 선택 후 정렬하여 출력해야 한다.\n",
    "3. 단, 중복된 번호를 가질 수는 없다.\n",
    "\n",
    "** 로또 번호 자동 기입을 시작합니다 **  \n",
    "1번째 자동 기입 ==> 13 21 24 26 27 37  \n",
    "2번째 자동 기입 ==> 5 12 14 17 19 32  \n",
    "3번째 자동 기입 ==> 1 12 24 34 38 39  \n",
    "4번째 자동 기입 ==> 4 5 8 11 17 43  \n",
    "5번째 자동 기입 ==> 8 15 21 35 37 39"
   ]
  },
  {
   "cell_type": "code",
   "execution_count": 112,
   "id": "e5ad03e6-c2b8-45d1-81a7-9eac4b89c44f",
   "metadata": {},
   "outputs": [
    {
     "name": "stdout",
     "output_type": "stream",
     "text": [
      "** 로또 번호 자동 기입을 시작합니다 **\n",
      "1번째 자동 기입 ==> 11 16 36 39 41 42\n",
      "2번째 자동 기입 ==> 7 14 33 40 43 45\n",
      "3번째 자동 기입 ==> 1 2 28 30 36 44\n",
      "4번째 자동 기입 ==> 15 16 18 20 29 40\n",
      "5번째 자동 기입 ==> 7 15 17 27 36 38\n"
     ]
    }
   ],
   "source": [
    "import random\n",
    "\n",
    "print(\"** 로또 번호 자동 기입을 시작합니다 **\")\n",
    "number = []\n",
    "for i in range(45):\n",
    "    number.append(i + 1)\n",
    "    \n",
    "for i in range(5):\n",
    "    print(\"{}번째 자동 기입 ==> \".format(i+1), end = '')\n",
    "    print(*sorted(random.sample(number, 6)))\n",
    "    "
   ]
  },
  {
   "cell_type": "markdown",
   "id": "2c229146-78cb-4d3f-93e6-4f02cc805b2a",
   "metadata": {},
   "source": [
    "### 문 11. 숫자로 구성된 리스를 전달받아 최댓값, 최솟값을 반환하고, 두 수를 리스트에서 제거하는 함수를 작성하오.\n",
    "\n",
    "def get_min_max(l):  \n",
    "...  \n",
    "...  \n",
    "l = [3, 5, 9, 1, 2]  \n",
    "min_val, max_val = get_min_max(l)  \n",
    "print(min_val)  \n",
    "print(max_val)  \n",
    "print(l)  "
   ]
  },
  {
   "cell_type": "code",
   "execution_count": 115,
   "id": "5c1250a5-aba7-49b9-aa92-ab15b9a6bb46",
   "metadata": {},
   "outputs": [
    {
     "name": "stdout",
     "output_type": "stream",
     "text": [
      "1\n",
      "9\n",
      "[3, 5, 2]\n"
     ]
    }
   ],
   "source": [
    "def get_min_max(l):\n",
    "    min_val = min(l)\n",
    "    max_val = max(l)\n",
    "    l.remove(min_val)\n",
    "    l.remove(max_val)\n",
    "    return min_val, max_val\n",
    "\n",
    "l = [3, 5, 9, 1, 2]\n",
    "min_val, max_val = get_min_max(l)\n",
    "\n",
    "print(min_val)\n",
    "print(max_val)\n",
    "print(l)"
   ]
  },
  {
   "cell_type": "markdown",
   "id": "743204f8-2b92-43c6-811d-23f032504d64",
   "metadata": {},
   "source": [
    "### 문 12. 두 딕셔너리를 전달받아 각 딕셔너리에 등장한 값을 모두 더한 새로운 딕셔너리를 반환하는 함수 comb_dict()를 작성하시오.\n",
    "\n",
    "def comb_dict(d1, d2):  \n",
    "...  \n",
    "...  \n",
    "d1 = {'a': 1, 'b': 3, 'd': 7, 'e': 8}  \n",
    "d2 = {'a': 2, 'c': 4, 'e': 1}  \n",
    "d3 = comb_dict(d1, d2)  \n",
    "print(d3)  "
   ]
  },
  {
   "cell_type": "code",
   "execution_count": 138,
   "id": "a805bb56-83c4-4f9f-94a1-5f55b7e01e6c",
   "metadata": {},
   "outputs": [
    {
     "name": "stdout",
     "output_type": "stream",
     "text": [
      "a\n",
      "c\n",
      "e\n",
      "{'a': 3, 'b': 3, 'd': 7, 'e': 9, 'c': 4}\n"
     ]
    }
   ],
   "source": [
    "import copy\n",
    "\n",
    "def comb_dict(d1, d2):\n",
    "    d = copy.deepcopy(d1)\n",
    "    for e in d2:\n",
    "        if e in d1:\n",
    "            d[e] += d2[e]\n",
    "        else:\n",
    "            d[e] = d2[e]\n",
    "    return d\n",
    "d1 = {'a': 1, 'b': 3, 'd': 7, 'e': 8}\n",
    "d2 = {'a': 2, 'c': 4, 'e': 1}\n",
    "d3 = comb_dict(d1, d2)\n",
    "print(d3)"
   ]
  },
  {
   "cell_type": "markdown",
   "id": "5af19047-38e7-4d73-bb8a-69a7fcc0402f",
   "metadata": {},
   "source": [
    "### 문 13. 숫자를 2개 이상 입력 받아, 최댓값과 최솟값의 차를 반환하는 함수를 작성하시오. 단, 반드시 입력받는 매개변수가 2개 이상인지를 확인해야 한다\n",
    "\n",
    "def diff(???):  \n",
    "...  \n",
    "...  \n",
    "print(diff(1,2,3,4,5))  \n",
    "print(diff(-100, 200))  \n",
    "diff(1) # 오류발생!  "
   ]
  },
  {
   "cell_type": "code",
   "execution_count": 125,
   "id": "fe2b5c5c-e0f5-46c5-b360-e5917728787e",
   "metadata": {},
   "outputs": [
    {
     "name": "stdout",
     "output_type": "stream",
     "text": [
      "4\n",
      "300\n",
      "오류발생\n"
     ]
    }
   ],
   "source": [
    "def diff(*v):\n",
    "    j = 0\n",
    "    for i in v:\n",
    "        j += 1\n",
    "        if j < 2:\n",
    "            result = \"오류발생\"\n",
    "        else:\n",
    "            max_val = max(v)\n",
    "            min_val = min(v)\n",
    "            result = max_val - min_val\n",
    "    return result\n",
    "\n",
    "print(diff(1,2,3,4,5))\n",
    "print(diff(-100, 200))\n",
    "print(diff(1))"
   ]
  }
 ],
 "metadata": {
  "kernelspec": {
   "display_name": "Python 3 (ipykernel)",
   "language": "python",
   "name": "python3"
  },
  "language_info": {
   "codemirror_mode": {
    "name": "ipython",
    "version": 3
   },
   "file_extension": ".py",
   "mimetype": "text/x-python",
   "name": "python",
   "nbconvert_exporter": "python",
   "pygments_lexer": "ipython3",
   "version": "3.10.14"
  }
 },
 "nbformat": 4,
 "nbformat_minor": 5
}
